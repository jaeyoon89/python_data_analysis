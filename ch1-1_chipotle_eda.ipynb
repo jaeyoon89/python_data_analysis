{
 "cells": [
  {
   "cell_type": "markdown",
   "id": "turkish-camera",
   "metadata": {},
   "source": [
    "<center>\n",
    "<img src=\"https://raw.githubusercontent.com/yoonkt200/python-data-analysis/master/img/this_is_data_anal.png\" width=\"200\" height=\"200\"><br>\n",
    "</center>"
   ]
  },
  {
   "cell_type": "markdown",
   "id": "agricultural-layer",
   "metadata": {},
   "source": [
    "# ch01. 데이터에서 인사이트 발견하기"
   ]
  },
  {
   "cell_type": "markdown",
   "id": "traditional-distributor",
   "metadata": {},
   "source": [
    "## 1.1 탐색적 데이터 분석의 과정\n",
    "\n",
    "\n",
    "탐색적 데이터 분석은 데이터의 정보를 파악하며 문제 해결에 필요한 힌트를 분석하는 과정이다."
   ]
  },
  {
   "cell_type": "markdown",
   "id": "infrared-cover",
   "metadata": {},
   "source": [
    "### - 데이터와의 첫 만남\n",
    "\n",
    "\n",
    "우리가 실제로 접하는 대부분의 데이터는 아직 분석에 활용된 적 없는 혹은 정제되지 않은 데이터이다. 이러한 데이터를 raw data라고 부른다. \n",
    "탐색적 데이터 분석은 데이터를 열어보는 상황에서부터 시작되며 이때 부터 다음과 같은 과정을 수행한다.\n",
    "\n",
    "\n",
    "#### 1. 데이터의 출처와 주제에 대해 이해한다.\n",
    "\n",
    "우선 데이터가 어디에서 생성된 것이고, 어떻게 수집된 것인지를 이해하는 것이 먼저이다.\n",
    "데이터의 이름, 구성 요소, 그리고 데이터의 출처와 주제 등에 대해 가장 먼저 조사한다.\n",
    "\n",
    "#### 2. 데이터의 크기를 알아본다.\n",
    "\n",
    "데이터의 대략적인 양이나 개수를 알아보는 단계이다. 데이터의 크기에 따라서 특별한 종류의 샘플링이 필요하기도 하고, 어떤 방식으로 데이터를 처리할지도 달라질 수 있기 때문이다.\n",
    "\n",
    "- 샘플링(sampling) : 샘플링이란 어떤 자료로부터 일부의 값을 추출하는 행위를 말한다. 분석하고자 하는 데이터가 너무 크거나 전체 데이터를 사용할 수 없는 경우에는 샘플링된 데이터를 분석하는 것이 좋은 대안이 될 수 있다.\n",
    "\n",
    "#### 3. 데이터의 구성 요소(피처)를 살펴본다.\n",
    "\n",
    "마지막으로 데이터의 피처를 살펴본다. 피처란 데이터를 구성하는 요소를 말한다. 만약 어떤 학급의 신체검사 결과를 기록한 데이터가 있다고 할 때, 키와 몸무게 그리고 시력같은 측정 요소를 피처라고 부른다. 데이터를 탐색하는 단계에서 피처를 살펴보는 것은 아주 중요한 과정이다."
   ]
  },
  {
   "cell_type": "markdown",
   "id": "front-buddy",
   "metadata": {},
   "source": [
    "### - 데이터의 속성 탐색하기\n",
    "\n",
    "\n",
    "데이터를 탐색하는 단계에서 데이터의 외형적인 힌트를 얻었다면 이번 단계에서는 데이터의 실제적인 내용을 탐색한다. 실제적인 내용 탐색의 과정에서는 크게 피처의 속성 탐색, 그리고 피처 간의 상관 관계 탐색 이렇게 두 가지를 시행한다.\n",
    "\n",
    "\n",
    "### - 피처의 속성 탐색\n",
    "\n",
    "\n",
    "데이터에서는 어떤 속성을 탐색할 수 있을까? 우선 가장 쉽게 떠올릴 수 있는 것은 평균값을 계산하는 것이다. 평균을 구하는 것뿐만 아니라, 표준편차, 중앙값, 데이터의 사분위 수 등의 통계값을 구할 수도 있다. 피처이 속성 탐색 과정에서 가장 중요한 것은 데이터에 질문을 던지는 것이다.\n",
    "\n",
    "\n",
    "### - 피처 간의 상관 관계 탐색\n",
    "\n",
    "\n",
    "피처 간의 상관 관계 탐색이란 여러 개의 피처가 서로에게 미치는 영향력을 알아보는 것이다. 만약 학급의 신체검사 데이터를 살펴본 뒤, '우리 학급은 비만이 아닐까?' 라는 질문을 했다고 가정해보자. 그렇다면 우리는 '몸무게'라는 피처를 살펴볼 것이다. 그리고 이를 통해 가정을 확인할 것이다. 하지만 우리가 한 가지 더 고려해야 할 점은 몸무게는 키와도 관계가 있다는 것이다. 이런 상황에서 필요한 것이 피처 간의 상관 관계 탐색이다. 데이터 분석에서는 이를 통계적인 방법으로 알아볼 수 있으며, 이는 피처 간의 공분산, 혹은 상관 계수와 같은 개념을 포함한다.\n",
    "\n",
    "\n",
    "### - 탐색한 데이터의 시각화\n",
    "\n",
    "\n",
    "마지막 단계는 탐색한 데이터의 시각화 단계이다. 지금까지의 과정을 통해 어느 정도 데이터를 파악했다면 이를 효과적으로 시각화할 차례이다.\n",
    "데이터의 시각화는 수치적 자료만 가지고는 파악하기 힘든 패턴이나 인사이트를 발견하는 데 유용하다. 단순 데이터 탐색으로는 상관 관계를 쉽게 발견하기 어렵지만 이를 그래프로 시각화하면 직관적으로 파악할 수 있다.\n"
   ]
  },
  {
   "cell_type": "markdown",
   "id": "realistic-bedroom",
   "metadata": {},
   "source": [
    "## 1.2  멕시코풍 프랜차이즈 chiptle의 주문 데이터 분석하기\n",
    "\n",
    "데이터 출처 : https://github.com/yoonkt200/python-data-analysis\n",
    "\n",
    "\n",
    "우리가 첫 번째로 분석해볼 데이터는 멕시코풍 프랜차이즈 'chipotle'라는 음석점의 주문 데이터이다.\n",
    "\n",
    "\n",
    "### step.1 탐색: 데이터의 기초 정보 살펴보기\n",
    "\n",
    "- chipotle 데이터셋의 기초 정보 출력하기\n",
    "\n",
    "\n",
    "아래와 같이 코드를 입력하여 코드 셀을 생성한다. 이 코드는 데이터를 불러온 뒤, 불러온 데이터의 구성 정보를 출력하는 코드이다. 데이터를 불러오기 위해선 read_csv() 함수를 사용해야 하는데 여기에 데이터 파일의 경로를 입력한다. 데이터 파일의 경로를 의미하는 변수는 file_path이다.\n",
    "\n"
   ]
  },
  {
   "cell_type": "code",
   "execution_count": 11,
   "id": "hungarian-discount",
   "metadata": {},
   "outputs": [
    {
     "name": "stdout",
     "output_type": "stream",
     "text": [
      "(4622, 5)\n",
      "-----------------------------------\n",
      "<class 'pandas.core.frame.DataFrame'>\n",
      "RangeIndex: 4622 entries, 0 to 4621\n",
      "Data columns (total 5 columns):\n",
      " #   Column              Non-Null Count  Dtype \n",
      "---  ------              --------------  ----- \n",
      " 0   order_id            4622 non-null   int64 \n",
      " 1   quantity            4622 non-null   int64 \n",
      " 2   item_name           4622 non-null   object\n",
      " 3   choice_description  3376 non-null   object\n",
      " 4   item_price          4622 non-null   object\n",
      "dtypes: int64(2), object(3)\n",
      "memory usage: 180.7+ KB\n",
      "None\n"
     ]
    }
   ],
   "source": [
    "import pandas as pd\n",
    "\n",
    "file_path = '/home/jaeyoon89/python-data-analysis/data/chipotle.tsv'\n",
    "# read_csv() 함수로 데이터를 데이터 프레임 형태로 불러온다.\n",
    "chipo = pd.read_csv(file_path, sep='\\t')\n",
    "\n",
    "print(chipo.shape)\n",
    "print(\"-----------------------------------\")\n",
    "print(chipo.info())"
   ]
  },
  {
   "cell_type": "markdown",
   "id": "every-appreciation",
   "metadata": {},
   "source": [
    "그리고 shape()와 info() 함수를 호출하면 위와 같은 실행 결과를 볼 수 있다. shape는 데이터의 행과 열의 크기를 반환하고, info()는 행의 구성정보와 열의 구성 정보를 나타낸다. 실행결과를 보면 데이터가 4,622개의 행과 5개의 피처로 구성되어 있음을 알 수 있다.\n",
    "또한 order_id와 quantity는  int64(숫자), 나머지 3개는 object라는 타입으로 이루어져 있다. 그런데 한 가지 특이한 정보는 choice_description 피처가 3,376개의 non_null object로 구성되어 있다. 이 정보는 무엇일까?\n",
    "데이터 프레임에서 object 타입은 일반적으로 문자열을 의미한다. 그리고 null이라는 용어는 데이터가 비어 있는 것을 의미한다. 이를 결측값이라고 한다. 즉, '3376 non-null object'라는 것은 3,376개의 비어 있지 않은 문자열 데이터가 있다는 정보이다. 하지만 데이터의 개수는 4,622개이므로 choice_description 피처는 1,246개의 결측값이 존재한다.\n",
    "다음 코드를 살펴보자. head(10) 함수는 첫 10개의 데이터를 테이블 형태로 출력한다. 또한 columns와 index를 호출하면 데이터의 행과 열에 대한 정보를 함께 출력할 수 있다."
   ]
  },
  {
   "cell_type": "markdown",
   "id": "ranking-situation",
   "metadata": {},
   "source": [
    "- chipotle 데이터셋의 행과 열, 데이터 확인하기"
   ]
  },
  {
   "cell_type": "code",
   "execution_count": 6,
   "id": "vertical-tucson",
   "metadata": {},
   "outputs": [
    {
     "data": {
      "text/html": [
       "<div>\n",
       "<style scoped>\n",
       "    .dataframe tbody tr th:only-of-type {\n",
       "        vertical-align: middle;\n",
       "    }\n",
       "\n",
       "    .dataframe tbody tr th {\n",
       "        vertical-align: top;\n",
       "    }\n",
       "\n",
       "    .dataframe thead th {\n",
       "        text-align: right;\n",
       "    }\n",
       "</style>\n",
       "<table border=\"1\" class=\"dataframe\">\n",
       "  <thead>\n",
       "    <tr style=\"text-align: right;\">\n",
       "      <th></th>\n",
       "      <th>order_id</th>\n",
       "      <th>quantity</th>\n",
       "      <th>item_name</th>\n",
       "      <th>choice_description</th>\n",
       "      <th>item_price</th>\n",
       "    </tr>\n",
       "  </thead>\n",
       "  <tbody>\n",
       "    <tr>\n",
       "      <th>0</th>\n",
       "      <td>1</td>\n",
       "      <td>1</td>\n",
       "      <td>Chips and Fresh Tomato Salsa</td>\n",
       "      <td>NaN</td>\n",
       "      <td>$2.39</td>\n",
       "    </tr>\n",
       "    <tr>\n",
       "      <th>1</th>\n",
       "      <td>1</td>\n",
       "      <td>1</td>\n",
       "      <td>Izze</td>\n",
       "      <td>[Clementine]</td>\n",
       "      <td>$3.39</td>\n",
       "    </tr>\n",
       "    <tr>\n",
       "      <th>2</th>\n",
       "      <td>1</td>\n",
       "      <td>1</td>\n",
       "      <td>Nantucket Nectar</td>\n",
       "      <td>[Apple]</td>\n",
       "      <td>$3.39</td>\n",
       "    </tr>\n",
       "    <tr>\n",
       "      <th>3</th>\n",
       "      <td>1</td>\n",
       "      <td>1</td>\n",
       "      <td>Chips and Tomatillo-Green Chili Salsa</td>\n",
       "      <td>NaN</td>\n",
       "      <td>$2.39</td>\n",
       "    </tr>\n",
       "    <tr>\n",
       "      <th>4</th>\n",
       "      <td>2</td>\n",
       "      <td>2</td>\n",
       "      <td>Chicken Bowl</td>\n",
       "      <td>[Tomatillo-Red Chili Salsa (Hot), [Black Beans...</td>\n",
       "      <td>$16.98</td>\n",
       "    </tr>\n",
       "    <tr>\n",
       "      <th>5</th>\n",
       "      <td>3</td>\n",
       "      <td>1</td>\n",
       "      <td>Chicken Bowl</td>\n",
       "      <td>[Fresh Tomato Salsa (Mild), [Rice, Cheese, Sou...</td>\n",
       "      <td>$10.98</td>\n",
       "    </tr>\n",
       "    <tr>\n",
       "      <th>6</th>\n",
       "      <td>3</td>\n",
       "      <td>1</td>\n",
       "      <td>Side of Chips</td>\n",
       "      <td>NaN</td>\n",
       "      <td>$1.69</td>\n",
       "    </tr>\n",
       "    <tr>\n",
       "      <th>7</th>\n",
       "      <td>4</td>\n",
       "      <td>1</td>\n",
       "      <td>Steak Burrito</td>\n",
       "      <td>[Tomatillo Red Chili Salsa, [Fajita Vegetables...</td>\n",
       "      <td>$11.75</td>\n",
       "    </tr>\n",
       "    <tr>\n",
       "      <th>8</th>\n",
       "      <td>4</td>\n",
       "      <td>1</td>\n",
       "      <td>Steak Soft Tacos</td>\n",
       "      <td>[Tomatillo Green Chili Salsa, [Pinto Beans, Ch...</td>\n",
       "      <td>$9.25</td>\n",
       "    </tr>\n",
       "    <tr>\n",
       "      <th>9</th>\n",
       "      <td>5</td>\n",
       "      <td>1</td>\n",
       "      <td>Steak Burrito</td>\n",
       "      <td>[Fresh Tomato Salsa, [Rice, Black Beans, Pinto...</td>\n",
       "      <td>$9.25</td>\n",
       "    </tr>\n",
       "  </tbody>\n",
       "</table>\n",
       "</div>"
      ],
      "text/plain": [
       "   order_id  quantity                              item_name  \\\n",
       "0         1         1           Chips and Fresh Tomato Salsa   \n",
       "1         1         1                                   Izze   \n",
       "2         1         1                       Nantucket Nectar   \n",
       "3         1         1  Chips and Tomatillo-Green Chili Salsa   \n",
       "4         2         2                           Chicken Bowl   \n",
       "5         3         1                           Chicken Bowl   \n",
       "6         3         1                          Side of Chips   \n",
       "7         4         1                          Steak Burrito   \n",
       "8         4         1                       Steak Soft Tacos   \n",
       "9         5         1                          Steak Burrito   \n",
       "\n",
       "                                  choice_description item_price  \n",
       "0                                                NaN     $2.39   \n",
       "1                                       [Clementine]     $3.39   \n",
       "2                                            [Apple]     $3.39   \n",
       "3                                                NaN     $2.39   \n",
       "4  [Tomatillo-Red Chili Salsa (Hot), [Black Beans...    $16.98   \n",
       "5  [Fresh Tomato Salsa (Mild), [Rice, Cheese, Sou...    $10.98   \n",
       "6                                                NaN     $1.69   \n",
       "7  [Tomatillo Red Chili Salsa, [Fajita Vegetables...    $11.75   \n",
       "8  [Tomatillo Green Chili Salsa, [Pinto Beans, Ch...     $9.25   \n",
       "9  [Fresh Tomato Salsa, [Rice, Black Beans, Pinto...     $9.25   "
      ]
     },
     "execution_count": 6,
     "metadata": {},
     "output_type": "execute_result"
    }
   ],
   "source": [
    "chipo.head(10)"
   ]
  },
  {
   "cell_type": "code",
   "execution_count": 8,
   "id": "unlikely-botswana",
   "metadata": {},
   "outputs": [
    {
     "name": "stdout",
     "output_type": "stream",
     "text": [
      "Index(['order_id', 'quantity', 'item_name', 'choice_description',\n",
      "       'item_price'],\n",
      "      dtype='object')\n",
      "------------------------------------\n",
      "RangeIndex(start=0, stop=4622, step=1)\n"
     ]
    }
   ],
   "source": [
    "print(chipo.columns)\n",
    "print(\"------------------------------------\")\n",
    "print(chipo.index)"
   ]
  },
  {
   "cell_type": "markdown",
   "id": "coordinate-australia",
   "metadata": {},
   "source": [
    "이떄, chipotle 데이터셋 피처의 의미는 각각 다음과 같다.\n",
    "\n",
    "\n",
    "- order_id : 주문번호\n",
    "- quantity : 아이템의 주문 수량\n",
    "- item_name : 주문한 아이템의 이름\n",
    "- choice_description : 주문한 아이템의 상세 선택 옵션\n",
    "- item_prince : 주문 아이템의 가격 정보"
   ]
  },
  {
   "cell_type": "markdown",
   "id": "international-herald",
   "metadata": {},
   "source": [
    "### - quantity와 item_price의 수치적 특징\n",
    "\n",
    "\n",
    "우선 quantity와 item_price의 수치적 특징을 살펴보자. 이 두 피처는 연속형 피처이다. 연속형 피처는 키와 몸무게처럼 어떠한 값도 가질 수 있는 연속적인 숫자 형태를 의미한다.\n",
    "\n",
    "다음 코드의 출력 결과는 describe() 함수가 나타낸 피처의 기초 통계량이다. 하지만 현재 유일하게 존재하는 수치형 피처는 quantity뿐이기 때문에, 오직 quantity에 대한 정보만을 출력할 수 있다."
   ]
  },
  {
   "cell_type": "markdown",
   "id": "increased-jacksonville",
   "metadata": {},
   "source": [
    "- describe() 함수로 기초 통게량 출력하기"
   ]
  },
  {
   "cell_type": "code",
   "execution_count": 9,
   "id": "pressed-above",
   "metadata": {},
   "outputs": [
    {
     "name": "stdout",
     "output_type": "stream",
     "text": [
      "          quantity\n",
      "count  4622.000000\n",
      "mean      1.075725\n",
      "std       0.410186\n",
      "min       1.000000\n",
      "25%       1.000000\n",
      "50%       1.000000\n",
      "75%       1.000000\n",
      "max      15.000000\n"
     ]
    }
   ],
   "source": [
    "# order_id는 숫자의 의미를 가지지 않기 때문에 str으로 변환한다.\n",
    "chipo['order_id'] = chipo['order_id'].astype(str)\n",
    "print(chipo.describe())"
   ]
  },
  {
   "cell_type": "markdown",
   "id": "third-jumping",
   "metadata": {},
   "source": [
    "출력 내용을 분석해보면 아이템의 평균 주문 수량(mean)은 약 1.07이라는 것을 알 수 있다. 이는 대부분 한 아이템에 대해서 1개 정도만 주문했다는 것이고, '한 사람이 같은 메뉴를 여러개 구매하는 경우는 많지 않다' 는 인사이트를 얻을 수 있다.\n",
    "그렇다면 item_price의 수치적 특징은 어떻게 알아볼 수 있을까? 현재 item_price 피처는 object 타입이기 때문에 describe() 함수로 기초 통계량을 확인할 수 없다. 이를 위해서는 추가적인 데이터 전처리 작업이 필요한데, 이는 step3 에서 배워보자."
   ]
  },
  {
   "cell_type": "markdown",
   "id": "lonely-taste",
   "metadata": {},
   "source": [
    "### - order_id와 item_name 개수\n",
    "\n",
    "\n",
    "다음으로 order_id와 item_name의 개수를 탐색한다. 이 두 피처는 범주형 피처이기 때문에 unique() 함수를 사용한다. 이를 통해 피처 내에 몇 개의 범주가 있는지를 확인할 수 있다."
   ]
  },
  {
   "cell_type": "markdown",
   "id": "double-combat",
   "metadata": {},
   "source": [
    "- unique() 함수로 범주형 피처의 개수 출력하기"
   ]
  },
  {
   "cell_type": "code",
   "execution_count": 10,
   "id": "fleet-document",
   "metadata": {},
   "outputs": [
    {
     "name": "stdout",
     "output_type": "stream",
     "text": [
      "1834\n",
      "50\n"
     ]
    }
   ],
   "source": [
    "print(len(chipo['order_id'].unique()))\n",
    "print(len(chipo['item_name'].unique()))"
   ]
  },
  {
   "cell_type": "markdown",
   "id": "pursuant-requirement",
   "metadata": {},
   "source": [
    "### step.2 인사이트의 발견: 탐색과 시각화하기\n",
    "\n",
    "\n",
    "### - 가장 많이 주문한 아이템 Top10\n",
    "\n",
    "\n",
    "먼저, 가장 많이 주문한 아이템 Top10을 분석하기 위해 다음과 같이 DataFrame['columns']의 형태에 value_counts() 함수를 적용하는 방식을 사용하자. DataFrame['columns']은 시리즈라는 객체를 반환하는데, value_counts() 함수는 이러한 시리즈 객체에만 적용되기 때문이다.\n",
    "\n",
    "\n",
    "\n"
   ]
  },
  {
   "cell_type": "markdown",
   "id": "stuck-population",
   "metadata": {},
   "source": [
    "- 가장 많이 주문한 아이템 Top10 출력하기"
   ]
  },
  {
   "cell_type": "code",
   "execution_count": 13,
   "id": "stupid-amsterdam",
   "metadata": {},
   "outputs": [
    {
     "name": "stdout",
     "output_type": "stream",
     "text": [
      "Top 1 : Chicken Bowl 726\n",
      "Top 2 : Chicken Burrito 553\n",
      "Top 3 : Chips and Guacamole 479\n",
      "Top 4 : Steak Burrito 368\n",
      "Top 5 : Canned Soft Drink 301\n",
      "Top 6 : Chips 211\n",
      "Top 7 : Steak Bowl 211\n",
      "Top 8 : Bottled Water 162\n",
      "Top 9 : Chicken Soft Tacos 115\n",
      "Top 10 : Chips and Fresh Tomato Salsa 110\n"
     ]
    }
   ],
   "source": [
    "item_count = chipo['item_name'].value_counts()[:10]\n",
    "for idx, (val,cnt) in enumerate(item_count.iteritems(), 1):\n",
    "    print(\"Top\", idx, \":\", val, cnt)"
   ]
  },
  {
   "cell_type": "markdown",
   "id": "color-korea",
   "metadata": {},
   "source": [
    "### - 아이템별 주문 개수와 총량\n",
    "\n",
    "\n",
    "이번에는 groupby() 함수를 이용하여 아이템별 주문 개수와 총량을 구해보자. 판다스의 groupby() 함수는 데이터 프레임에서 특정 피처를 기준으로 그룹을 생성하며 이를 통해 그룹별 연산을 적용할 수 있다."
   ]
  },
  {
   "cell_type": "markdown",
   "id": "missing-while",
   "metadata": {},
   "source": [
    "- 아이템별 주문 개수와 총량 구하기"
   ]
  },
  {
   "cell_type": "code",
   "execution_count": 18,
   "id": "dated-ceramic",
   "metadata": {},
   "outputs": [
    {
     "data": {
      "text/plain": [
       "item_name\n",
       "6 Pack Soft Drink         54\n",
       "Barbacoa Bowl             66\n",
       "Barbacoa Burrito          91\n",
       "Barbacoa Crispy Tacos     11\n",
       "Barbacoa Salad Bowl       10\n",
       "Barbacoa Soft Tacos       25\n",
       "Bottled Water            162\n",
       "Bowl                       2\n",
       "Burrito                    6\n",
       "Canned Soda              104\n",
       "Name: quantity, dtype: int64"
      ]
     },
     "execution_count": 18,
     "metadata": {},
     "output_type": "execute_result"
    }
   ],
   "source": [
    "# 아이템별 주문 개수를 출력한다.\n",
    "order_count = chipo.groupby('item_name')['quantity'].count()\n",
    "order_count[:10]"
   ]
  },
  {
   "cell_type": "code",
   "execution_count": 17,
   "id": "turkish-burner",
   "metadata": {},
   "outputs": [
    {
     "data": {
      "text/plain": [
       "item_name\n",
       "6 Pack Soft Drink         55\n",
       "Barbacoa Bowl             66\n",
       "Barbacoa Burrito          91\n",
       "Barbacoa Crispy Tacos     12\n",
       "Barbacoa Salad Bowl       10\n",
       "Barbacoa Soft Tacos       25\n",
       "Bottled Water            211\n",
       "Bowl                       4\n",
       "Burrito                    6\n",
       "Canned Soda              126\n",
       "Name: quantity, dtype: int64"
      ]
     },
     "execution_count": 17,
     "metadata": {},
     "output_type": "execute_result"
    }
   ],
   "source": [
    "# 아이템별 주문 총량을 계산한다.\n",
    "item_quantity = chipo.groupby('item_name')['quantity'].sum()\n",
    "item_quantity[:10]"
   ]
  },
  {
   "cell_type": "markdown",
   "id": "infinite-collapse",
   "metadata": {},
   "source": [
    "위의 코드 chipo.groupby('item_name')['quantity'].count() 는 chipo Dataframe 에서 item_name을 그룹으로 quantity 피처의 count()를 계산한 것이다. 이는 아이템별 주문 개수를 의미한다. 마찬가지 방법으로 chipo.groupby('item_name')['quantity'].sum() 은 아이템별 주문 총량을 나타낸다. "
   ]
  },
  {
   "cell_type": "markdown",
   "id": "selected-idaho",
   "metadata": {},
   "source": [
    "### - 시각화\n",
    "\n",
    "\n",
    "아이템별 주문의 총량을 막대 그래프로 시각화해볼 수도 있다. 코드에서는 tolist()와 넘파이의 arange() 함수를 이용해 x_pos를 선언하고 0부터 50까지의 숫자를 그래프의 x축 이름으로 사용한다. 그 이유는 50개의 아이템의 이름을 x축에 표현하기에는 그래프의 공간이 너무 협소하기 때문이다. y값(order_cnt)에는 추문 총량에 해당하는 값인 item_quantity.values.tolist()를 넣어준다."
   ]
  },
  {
   "cell_type": "code",
   "execution_count": 20,
   "id": "generous-width",
   "metadata": {},
   "outputs": [
    {
     "data": {
      "image/png": "[encoded data removed]",
      "text/plain": [
       "<Figure size 432x288 with 1 Axes>"
      ]
     },
     "metadata": {
      "needs_background": "light"
     },
     "output_type": "display_data"
    }
   ],
   "source": [
    "%matplotlib inline\n",
    "import numpy as np\n",
    "import matplotlib.pyplot as plt\n",
    "\n",
    "item_name_list = item_quantity.index.tolist()\n",
    "x_pos = np.arange(len(item_name_list))\n",
    "order_cnt = item_quantity.values.tolist()\n",
    "\n",
    "plt.bar(x_pos, order_cnt, align='center')\n",
    "plt.ylabel('ordered_item_count')\n",
    "plt.title('Distribution of all ordered item')\n",
    "\n",
    "plt.show()\n"
   ]
  },
  {
   "cell_type": "code",
   "execution_count": null,
   "id": "hazardous-position",
   "metadata": {},
   "outputs": [],
   "source": []
  }
 ],
 "metadata": {
  "kernelspec": {
   "display_name": "Python 3",
   "language": "python",
   "name": "python3"
  },
  "language_info": {
   "codemirror_mode": {
    "name": "ipython",
    "version": 3
   },
   "file_extension": ".py",
   "mimetype": "text/x-python",
   "name": "python",
   "nbconvert_exporter": "python",
   "pygments_lexer": "ipython3",
   "version": "3.6.9"
  }
 },
 "nbformat": 4,
 "nbformat_minor": 5
}
