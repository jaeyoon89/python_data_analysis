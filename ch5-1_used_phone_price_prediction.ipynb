{
 "cells": [
  {
   "cell_type": "markdown",
   "id": "desirable-radiation",
   "metadata": {},
   "source": [
    "<center>\n",
    "<img src=\"https://raw.githubusercontent.com/yoonkt200/python-data-analysis/master/img/this_is_data_anal.png\" width=\"200\" height=\"200\"><br>\n",
    "</center>"
   ]
  },
  {
   "cell_type": "markdown",
   "id": "varied-reach",
   "metadata": {},
   "source": [
    "# ch.05 데이터 종합 분석 예제"
   ]
  },
  {
   "cell_type": "markdown",
   "id": "neutral-crash",
   "metadata": {},
   "source": [
    "## 5.1 중고나라 휴대폰 거래가격 예측하기"
   ]
  },
  {
   "cell_type": "markdown",
   "id": "beautiful-gazette",
   "metadata": {},
   "source": [
    "이번 예제에서 사용하는 데이터는 https://www.data.go.kr/ 에서 제공하는 '네이버 중고나라' 데이터, 그리고 통신 3사 사이트에서 제공하는 휴대폰 공시가격 데이터를 기반으로 만들어진 것이다."
   ]
  },
  {
   "cell_type": "markdown",
   "id": "tamil-sunglasses",
   "metadata": {},
   "source": [
    "### step.1 탐색적 분석: 중고나라 데이터 분석하기"
   ]
  },
  {
   "cell_type": "markdown",
   "id": "looking-premiere",
   "metadata": {},
   "source": [
    "예제에서 사용할 중고나라 데이터셋은 다음과 같은 피처로 구성되어 있다.\n",
    "\n",
    "- create_date : 판매(or 구매) 게시글이 올라온 시점\n",
    "- price : 게시글 작성자가 제안한 휴대폰의 거래가격\n",
    "- text : 게시글의 제목과 본문을 합친 텍스트 데이터\n",
    "- phone_model : 휴대폰의 기종\n",
    "- factory_price : 휴대폰의 공시가격\n",
    "- maker : 휴대폰 제조사\n",
    "- price_index : 판매 게시글이 올라온 시점에서의 휴대폰 물가 지수 데이터"
   ]
  },
  {
   "cell_type": "markdown",
   "id": "closing-recycling",
   "metadata": {},
   "source": [
    "- 중고나라 데이터셋 살펴보기"
   ]
  },
  {
   "cell_type": "code",
   "execution_count": 1,
   "id": "determined-subscription",
   "metadata": {},
   "outputs": [],
   "source": [
    "%matplotlib inline\n",
    "\n",
    "import pandas as pd\n",
    "import numpy as np\n",
    "import matplotlib.pyplot as plt\n",
    "import seaborn as sns"
   ]
  },
  {
   "cell_type": "code",
   "execution_count": 3,
   "id": "ignored-orleans",
   "metadata": {},
   "outputs": [
    {
     "name": "stdout",
     "output_type": "stream",
     "text": [
      "<class 'pandas.core.frame.DataFrame'>\n",
      "RangeIndex: 4951 entries, 0 to 4950\n",
      "Data columns (total 7 columns):\n",
      " #   Column         Non-Null Count  Dtype  \n",
      "---  ------         --------------  -----  \n",
      " 0   create_date    4951 non-null   object \n",
      " 1   price          4951 non-null   float64\n",
      " 2   text           4951 non-null   object \n",
      " 3   phone_model    4951 non-null   object \n",
      " 4   factory_price  4951 non-null   int64  \n",
      " 5   maker          4951 non-null   object \n",
      " 6   price_index    4951 non-null   float64\n",
      "dtypes: float64(2), int64(1), object(4)\n",
      "memory usage: 270.9+ KB\n",
      "None\n"
     ]
    },
    {
     "data": {
      "text/html": [
       "<div>\n",
       "<style scoped>\n",
       "    .dataframe tbody tr th:only-of-type {\n",
       "        vertical-align: middle;\n",
       "    }\n",
       "\n",
       "    .dataframe tbody tr th {\n",
       "        vertical-align: top;\n",
       "    }\n",
       "\n",
       "    .dataframe thead th {\n",
       "        text-align: right;\n",
       "    }\n",
       "</style>\n",
       "<table border=\"1\" class=\"dataframe\">\n",
       "  <thead>\n",
       "    <tr style=\"text-align: right;\">\n",
       "      <th></th>\n",
       "      <th>create_date</th>\n",
       "      <th>price</th>\n",
       "      <th>text</th>\n",
       "      <th>phone_model</th>\n",
       "      <th>factory_price</th>\n",
       "      <th>maker</th>\n",
       "      <th>price_index</th>\n",
       "    </tr>\n",
       "  </thead>\n",
       "  <tbody>\n",
       "    <tr>\n",
       "      <th>0</th>\n",
       "      <td>2017-03-19  4 35 00 PM</td>\n",
       "      <td>550000.0</td>\n",
       "      <td>아이폰6플러스 블랙+애플라이트 64기가 팝니다  아이폰6플러스 블랙+애플라이트 64...</td>\n",
       "      <td>iphone 6 64gb</td>\n",
       "      <td>924000</td>\n",
       "      <td>apple</td>\n",
       "      <td>95.96</td>\n",
       "    </tr>\n",
       "    <tr>\n",
       "      <th>1</th>\n",
       "      <td>2016-10-26  12 08 00 PM</td>\n",
       "      <td>380000.0</td>\n",
       "      <td>갤럭시s6엣지 32기가 팝니다 직거래  갤럭시s6엣지 32기가 품명 갤럭시s6엣지제...</td>\n",
       "      <td>galaxy s6 edge 32gb</td>\n",
       "      <td>979000</td>\n",
       "      <td>samsung</td>\n",
       "      <td>103.05</td>\n",
       "    </tr>\n",
       "    <tr>\n",
       "      <th>2</th>\n",
       "      <td>2016-10-25  12 52 00 PM</td>\n",
       "      <td>300000.0</td>\n",
       "      <td>갤럭시s6 풀박스로 팝니다~~~ 새상품급  실기스조차 없어요  직접거래 구매한지 1...</td>\n",
       "      <td>galaxy s6 32gb</td>\n",
       "      <td>854000</td>\n",
       "      <td>samsung</td>\n",
       "      <td>103.05</td>\n",
       "    </tr>\n",
       "    <tr>\n",
       "      <th>3</th>\n",
       "      <td>2017-03-23  11 14 00 PM</td>\n",
       "      <td>290000.0</td>\n",
       "      <td>sk  g5 티탄 폰 단품판매합니다  직접거래 sk g5 티탄 폰 단품판매합니다 올...</td>\n",
       "      <td>lg g5 32gb</td>\n",
       "      <td>836000</td>\n",
       "      <td>lg</td>\n",
       "      <td>95.96</td>\n",
       "    </tr>\n",
       "    <tr>\n",
       "      <th>4</th>\n",
       "      <td>2016-04-11  7 35 00 PM</td>\n",
       "      <td>280000.0</td>\n",
       "      <td>sony 엑스페리아 c5 ultra e5506 16gb  미사용 새제품 팝니다 1...</td>\n",
       "      <td>lg u 32gb</td>\n",
       "      <td>396000</td>\n",
       "      <td>lg</td>\n",
       "      <td>102.59</td>\n",
       "    </tr>\n",
       "  </tbody>\n",
       "</table>\n",
       "</div>"
      ],
      "text/plain": [
       "               create_date     price  \\\n",
       "0   2017-03-19  4 35 00 PM  550000.0   \n",
       "1  2016-10-26  12 08 00 PM  380000.0   \n",
       "2  2016-10-25  12 52 00 PM  300000.0   \n",
       "3  2017-03-23  11 14 00 PM  290000.0   \n",
       "4   2016-04-11  7 35 00 PM  280000.0   \n",
       "\n",
       "                                                text          phone_model  \\\n",
       "0  아이폰6플러스 블랙+애플라이트 64기가 팝니다  아이폰6플러스 블랙+애플라이트 64...        iphone 6 64gb   \n",
       "1  갤럭시s6엣지 32기가 팝니다 직거래  갤럭시s6엣지 32기가 품명 갤럭시s6엣지제...  galaxy s6 edge 32gb   \n",
       "2  갤럭시s6 풀박스로 팝니다~~~ 새상품급  실기스조차 없어요  직접거래 구매한지 1...       galaxy s6 32gb   \n",
       "3  sk  g5 티탄 폰 단품판매합니다  직접거래 sk g5 티탄 폰 단품판매합니다 올...           lg g5 32gb   \n",
       "4   sony 엑스페리아 c5 ultra e5506 16gb  미사용 새제품 팝니다 1...            lg u 32gb   \n",
       "\n",
       "   factory_price    maker  price_index  \n",
       "0         924000    apple        95.96  \n",
       "1         979000  samsung       103.05  \n",
       "2         854000  samsung       103.05  \n",
       "3         836000       lg        95.96  \n",
       "4         396000       lg       102.59  "
      ]
     },
     "execution_count": 3,
     "metadata": {},
     "output_type": "execute_result"
    }
   ],
   "source": [
    "df = pd.read_csv('/home/jaeyoon89/python-data-analysis/data/used_mobile_phone.csv')\n",
    "print(df.info())\n",
    "df.head()"
   ]
  },
  {
   "cell_type": "markdown",
   "id": "fitted-macro",
   "metadata": {},
   "source": [
    "다음으로 개별 피처들을 탐색한다."
   ]
  },
  {
   "cell_type": "markdown",
   "id": "manual-beijing",
   "metadata": {},
   "source": [
    "- 개별 피처 탐색하기 : date 피처 탐색"
   ]
  },
  {
   "cell_type": "code",
   "execution_count": 4,
   "id": "alpha-villa",
   "metadata": {},
   "outputs": [
    {
     "data": {
      "text/plain": [
       "2016-10    2956\n",
       "2017-03    1311\n",
       "2016-08     107\n",
       "2016-09     105\n",
       "2016-04     102\n",
       "2016-05      89\n",
       "2016-06      76\n",
       "2016-07      74\n",
       "2016-03      70\n",
       "2016-02      61\n",
       "Name: month, dtype: int64"
      ]
     },
     "execution_count": 4,
     "metadata": {},
     "output_type": "execute_result"
    }
   ],
   "source": [
    "# create_date로 부터 '월'을 의미하는 month 정보를 피처로 추출한다.\n",
    "df['month'] = df['create_date'].apply(lambda x : x[:7])\n",
    "\n",
    "# 월별 거래 횟수를 계산하여 출력한다.\n",
    "df['month'].value_counts()"
   ]
  },
  {
   "cell_type": "markdown",
   "id": "animated-envelope",
   "metadata": {},
   "source": [
    "date 피처에서 월별 게시글의 개수를 살펴본 결과, 이 데이터는 2016년 10월과 2017년 3월에 집중적으로 수집된 데이터라는 것을 알 수 있다.\n",
    "데이터의 개수를 일자별 시계열 그래프로도 나타내보자."
   ]
  },
  {
   "cell_type": "markdown",
   "id": "located-default",
   "metadata": {},
   "source": [
    "- 개별 피처 탐색하기: date 피처 탐색"
   ]
  },
  {
   "cell_type": "code",
   "execution_count": 5,
   "id": "african-perry",
   "metadata": {},
   "outputs": [
    {
     "data": {
      "image/png": "[encoded data removed]",
      "text/plain": [
       "<Figure size 432x288 with 1 Axes>"
      ]
     },
     "metadata": {
      "needs_background": "light"
     },
     "output_type": "display_data"
    }
   ],
   "source": [
    "# 일별 거래 횟수를 계산하여 그래프로 출력한다.\n",
    "df_day = pd.to_datetime(df['create_date'].apply(lambda x : x[:10])).value_counts()\n",
    "df_day.plot()\n",
    "plt.show()"
   ]
  },
  {
   "cell_type": "markdown",
   "id": "indian-component",
   "metadata": {},
   "source": [
    "그리고 아래와 같이 price 피처의 탐색을 통해 중고나라에서 거래되고 있는 중고 휴대폰의 가격이 어느 정도인지 살펴볼 수 있다. 그래프의 분포를 살펴보면, 대부분의 중고 휴대폰이 60만원 이하의 가격대를 형성하고 있고, 몇몇은 그 이상에도 거래되는 것을 볼 수 있다."
   ]
  },
  {
   "cell_type": "markdown",
   "id": "competent-nothing",
   "metadata": {},
   "source": [
    "- 개별 피처 탐색하기 : price 피처 탐색\n"
   ]
  },
  {
   "cell_type": "code",
   "execution_count": 8,
   "id": "dense-canon",
   "metadata": {},
   "outputs": [
    {
     "data": {
      "text/plain": [
       "<AxesSubplot:>"
      ]
     },
     "execution_count": 8,
     "metadata": {},
     "output_type": "execute_result"
    },
    {
     "data": {
      "image/png": "[encoded data removed]",
      "text/plain": [
       "<Figure size 432x288 with 1 Axes>"
      ]
     },
     "metadata": {
      "needs_background": "light"
     },
     "output_type": "display_data"
    }
   ],
   "source": [
    "# 가격의 분포를 그래프로 탐색한다.\n",
    "df['price'].hist(bins=\"auto\")"
   ]
  },
  {
   "cell_type": "code",
   "execution_count": null,
   "id": "sunrise-contrast",
   "metadata": {},
   "outputs": [],
   "source": []
  }
 ],
 "metadata": {
  "kernelspec": {
   "display_name": "Python 3",
   "language": "python",
   "name": "python3"
  },
  "language_info": {
   "codemirror_mode": {
    "name": "ipython",
    "version": 3
   },
   "file_extension": ".py",
   "mimetype": "text/x-python",
   "name": "python",
   "nbconvert_exporter": "python",
   "pygments_lexer": "ipython3",
   "version": "3.6.9"
  }
 },
 "nbformat": 4,
 "nbformat_minor": 5
}
