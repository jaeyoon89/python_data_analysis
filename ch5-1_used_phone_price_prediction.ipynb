{
 "cells": [
  {
   "cell_type": "markdown",
   "id": "fantastic-music",
   "metadata": {},
   "source": [
    "<center>\n",
    "<img src=\"https://raw.githubusercontent.com/yoonkt200/python-data-analysis/master/img/this_is_data_anal.png\" width=\"200\" height=\"200\"><br>\n",
    "</center>"
   ]
  },
  {
   "cell_type": "markdown",
   "id": "accessory-healthcare",
   "metadata": {},
   "source": [
    "# ch.05 데이터 종합 분석 예제"
   ]
  },
  {
   "cell_type": "markdown",
   "id": "bored-wildlife",
   "metadata": {},
   "source": [
    "## 5.1 중고나라 휴대폰 거래가격 예측하기"
   ]
  },
  {
   "cell_type": "markdown",
   "id": "registered-vermont",
   "metadata": {},
   "source": [
    "이번 예제에서 사용하는 데이터는 https://www.data.go.kr/ 에서 제공하는 '네이버 중고나라' 데이터, 그리고 통신 3사 사이트에서 제공하는 휴대폰 공시가격 데이터를 기반으로 만들어진 것이다."
   ]
  },
  {
   "cell_type": "markdown",
   "id": "funny-adrian",
   "metadata": {},
   "source": [
    "### step.1 탐색적 분석: 중고나라 데이터 분석하기"
   ]
  },
  {
   "cell_type": "markdown",
   "id": "psychological-gender",
   "metadata": {},
   "source": [
    "예제에서 사용할 중고나라 데이터셋은 다음과 같은 피처로 구성되어 있다.\n",
    "\n",
    "- create_date : 판매(or 구매) 게시글이 올라온 시점\n",
    "- price : 게시글 작성자가 제안한 휴대폰의 거래가격\n",
    "- text : 게시글의 제목과 본문을 합친 텍스트 데이터\n",
    "- phone_model : 휴대폰의 기종\n",
    "- factory_price : 휴대폰의 공시가격\n",
    "- maker : 휴대폰 제조사\n",
    "- price_index : 판매 게시글이 올라온 시점에서의 휴대폰 물가 지수 데이터"
   ]
  },
  {
   "cell_type": "markdown",
   "id": "indian-charm",
   "metadata": {},
   "source": [
    "- 중고나라 데이터셋 살펴보기"
   ]
  },
  {
   "cell_type": "code",
   "execution_count": 1,
   "id": "running-olive",
   "metadata": {},
   "outputs": [],
   "source": [
    "%matplotlib inline\n",
    "\n",
    "import pandas as pd\n",
    "import numpy as np\n",
    "import matplotlib.pyplot as plt\n",
    "import seaborn as sns"
   ]
  },
  {
   "cell_type": "code",
   "execution_count": 2,
   "id": "atomic-discount",
   "metadata": {},
   "outputs": [
    {
     "name": "stdout",
     "output_type": "stream",
     "text": [
      "<class 'pandas.core.frame.DataFrame'>\n",
      "RangeIndex: 4951 entries, 0 to 4950\n",
      "Data columns (total 7 columns):\n",
      " #   Column         Non-Null Count  Dtype  \n",
      "---  ------         --------------  -----  \n",
      " 0   create_date    4951 non-null   object \n",
      " 1   price          4951 non-null   float64\n",
      " 2   text           4951 non-null   object \n",
      " 3   phone_model    4951 non-null   object \n",
      " 4   factory_price  4951 non-null   int64  \n",
      " 5   maker          4951 non-null   object \n",
      " 6   price_index    4951 non-null   float64\n",
      "dtypes: float64(2), int64(1), object(4)\n",
      "memory usage: 270.9+ KB\n",
      "None\n"
     ]
    },
    {
     "data": {
      "text/html": [
       "<div>\n",
       "<style scoped>\n",
       "    .dataframe tbody tr th:only-of-type {\n",
       "        vertical-align: middle;\n",
       "    }\n",
       "\n",
       "    .dataframe tbody tr th {\n",
       "        vertical-align: top;\n",
       "    }\n",
       "\n",
       "    .dataframe thead th {\n",
       "        text-align: right;\n",
       "    }\n",
       "</style>\n",
       "<table border=\"1\" class=\"dataframe\">\n",
       "  <thead>\n",
       "    <tr style=\"text-align: right;\">\n",
       "      <th></th>\n",
       "      <th>create_date</th>\n",
       "      <th>price</th>\n",
       "      <th>text</th>\n",
       "      <th>phone_model</th>\n",
       "      <th>factory_price</th>\n",
       "      <th>maker</th>\n",
       "      <th>price_index</th>\n",
       "    </tr>\n",
       "  </thead>\n",
       "  <tbody>\n",
       "    <tr>\n",
       "      <th>0</th>\n",
       "      <td>2017-03-19  4 35 00 PM</td>\n",
       "      <td>550000.0</td>\n",
       "      <td>아이폰6플러스 블랙+애플라이트 64기가 팝니다  아이폰6플러스 블랙+애플라이트 64...</td>\n",
       "      <td>iphone 6 64gb</td>\n",
       "      <td>924000</td>\n",
       "      <td>apple</td>\n",
       "      <td>95.96</td>\n",
       "    </tr>\n",
       "    <tr>\n",
       "      <th>1</th>\n",
       "      <td>2016-10-26  12 08 00 PM</td>\n",
       "      <td>380000.0</td>\n",
       "      <td>갤럭시s6엣지 32기가 팝니다 직거래  갤럭시s6엣지 32기가 품명 갤럭시s6엣지제...</td>\n",
       "      <td>galaxy s6 edge 32gb</td>\n",
       "      <td>979000</td>\n",
       "      <td>samsung</td>\n",
       "      <td>103.05</td>\n",
       "    </tr>\n",
       "    <tr>\n",
       "      <th>2</th>\n",
       "      <td>2016-10-25  12 52 00 PM</td>\n",
       "      <td>300000.0</td>\n",
       "      <td>갤럭시s6 풀박스로 팝니다~~~ 새상품급  실기스조차 없어요  직접거래 구매한지 1...</td>\n",
       "      <td>galaxy s6 32gb</td>\n",
       "      <td>854000</td>\n",
       "      <td>samsung</td>\n",
       "      <td>103.05</td>\n",
       "    </tr>\n",
       "    <tr>\n",
       "      <th>3</th>\n",
       "      <td>2017-03-23  11 14 00 PM</td>\n",
       "      <td>290000.0</td>\n",
       "      <td>sk  g5 티탄 폰 단품판매합니다  직접거래 sk g5 티탄 폰 단품판매합니다 올...</td>\n",
       "      <td>lg g5 32gb</td>\n",
       "      <td>836000</td>\n",
       "      <td>lg</td>\n",
       "      <td>95.96</td>\n",
       "    </tr>\n",
       "    <tr>\n",
       "      <th>4</th>\n",
       "      <td>2016-04-11  7 35 00 PM</td>\n",
       "      <td>280000.0</td>\n",
       "      <td>sony 엑스페리아 c5 ultra e5506 16gb  미사용 새제품 팝니다 1...</td>\n",
       "      <td>lg u 32gb</td>\n",
       "      <td>396000</td>\n",
       "      <td>lg</td>\n",
       "      <td>102.59</td>\n",
       "    </tr>\n",
       "  </tbody>\n",
       "</table>\n",
       "</div>"
      ],
      "text/plain": [
       "               create_date     price  \\\n",
       "0   2017-03-19  4 35 00 PM  550000.0   \n",
       "1  2016-10-26  12 08 00 PM  380000.0   \n",
       "2  2016-10-25  12 52 00 PM  300000.0   \n",
       "3  2017-03-23  11 14 00 PM  290000.0   \n",
       "4   2016-04-11  7 35 00 PM  280000.0   \n",
       "\n",
       "                                                text          phone_model  \\\n",
       "0  아이폰6플러스 블랙+애플라이트 64기가 팝니다  아이폰6플러스 블랙+애플라이트 64...        iphone 6 64gb   \n",
       "1  갤럭시s6엣지 32기가 팝니다 직거래  갤럭시s6엣지 32기가 품명 갤럭시s6엣지제...  galaxy s6 edge 32gb   \n",
       "2  갤럭시s6 풀박스로 팝니다~~~ 새상품급  실기스조차 없어요  직접거래 구매한지 1...       galaxy s6 32gb   \n",
       "3  sk  g5 티탄 폰 단품판매합니다  직접거래 sk g5 티탄 폰 단품판매합니다 올...           lg g5 32gb   \n",
       "4   sony 엑스페리아 c5 ultra e5506 16gb  미사용 새제품 팝니다 1...            lg u 32gb   \n",
       "\n",
       "   factory_price    maker  price_index  \n",
       "0         924000    apple        95.96  \n",
       "1         979000  samsung       103.05  \n",
       "2         854000  samsung       103.05  \n",
       "3         836000       lg        95.96  \n",
       "4         396000       lg       102.59  "
      ]
     },
     "execution_count": 2,
     "metadata": {},
     "output_type": "execute_result"
    }
   ],
   "source": [
    "df = pd.read_csv('/home/jaeyoon89/python-data-analysis/data/used_mobile_phone.csv')\n",
    "print(df.info())\n",
    "df.head()"
   ]
  },
  {
   "cell_type": "markdown",
   "id": "representative-world",
   "metadata": {},
   "source": [
    "다음으로 개별 피처들을 탐색한다."
   ]
  },
  {
   "cell_type": "markdown",
   "id": "informational-stress",
   "metadata": {},
   "source": [
    "- 개별 피처 탐색하기 : date 피처 탐색"
   ]
  },
  {
   "cell_type": "code",
   "execution_count": 3,
   "id": "tender-basic",
   "metadata": {},
   "outputs": [
    {
     "data": {
      "text/plain": [
       "2016-10    2956\n",
       "2017-03    1311\n",
       "2016-08     107\n",
       "2016-09     105\n",
       "2016-04     102\n",
       "2016-05      89\n",
       "2016-06      76\n",
       "2016-07      74\n",
       "2016-03      70\n",
       "2016-02      61\n",
       "Name: month, dtype: int64"
      ]
     },
     "execution_count": 3,
     "metadata": {},
     "output_type": "execute_result"
    }
   ],
   "source": [
    "# create_date로 부터 '월'을 의미하는 month 정보를 피처로 추출한다.\n",
    "df['month'] = df['create_date'].apply(lambda x : x[:7])\n",
    "\n",
    "# 월별 거래 횟수를 계산하여 출력한다.\n",
    "df['month'].value_counts()"
   ]
  },
  {
   "cell_type": "markdown",
   "id": "occupied-bottom",
   "metadata": {},
   "source": [
    "date 피처에서 월별 게시글의 개수를 살펴본 결과, 이 데이터는 2016년 10월과 2017년 3월에 집중적으로 수집된 데이터라는 것을 알 수 있다.\n",
    "데이터의 개수를 일자별 시계열 그래프로도 나타내보자."
   ]
  },
  {
   "cell_type": "markdown",
   "id": "related-kennedy",
   "metadata": {},
   "source": [
    "- 개별 피처 탐색하기: date 피처 탐색"
   ]
  },
  {
   "cell_type": "code",
   "execution_count": 4,
   "id": "another-prospect",
   "metadata": {},
   "outputs": [
    {
     "data": {
      "image/png": "[encoded data removed]",
      "text/plain": [
       "<Figure size 432x288 with 1 Axes>"
      ]
     },
     "metadata": {
      "needs_background": "light"
     },
     "output_type": "display_data"
    }
   ],
   "source": [
    "# 일별 거래 횟수를 계산하여 그래프로 출력한다.\n",
    "df_day = pd.to_datetime(df['create_date'].apply(lambda x : x[:10])).value_counts()\n",
    "df_day.plot()\n",
    "plt.show()"
   ]
  },
  {
   "cell_type": "markdown",
   "id": "indie-inclusion",
   "metadata": {},
   "source": [
    "그리고 아래와 같이 price 피처의 탐색을 통해 중고나라에서 거래되고 있는 중고 휴대폰의 가격이 어느 정도인지 살펴볼 수 있다. 그래프의 분포를 살펴보면, 대부분의 중고 휴대폰이 60만원 이하의 가격대를 형성하고 있고, 몇몇은 그 이상에도 거래되는 것을 볼 수 있다."
   ]
  },
  {
   "cell_type": "markdown",
   "id": "weighted-punishment",
   "metadata": {},
   "source": [
    "- 개별 피처 탐색하기 : price 피처 탐색\n"
   ]
  },
  {
   "cell_type": "code",
   "execution_count": 5,
   "id": "tracked-spice",
   "metadata": {},
   "outputs": [
    {
     "data": {
      "text/plain": [
       "<AxesSubplot:>"
      ]
     },
     "execution_count": 5,
     "metadata": {},
     "output_type": "execute_result"
    },
    {
     "data": {
      "image/png": "[encoded data removed]",
      "text/plain": [
       "<Figure size 432x288 with 1 Axes>"
      ]
     },
     "metadata": {
      "needs_background": "light"
     },
     "output_type": "display_data"
    }
   ],
   "source": [
    "# 가격의 분포를 그래프로 탐색한다.\n",
    "df['price'].hist(bins=\"auto\")"
   ]
  },
  {
   "cell_type": "markdown",
   "id": "geological-panama",
   "metadata": {},
   "source": [
    "이번엔 휴대폰의 동일 기종 내에서의 가격 분포를 살펴보자. 이를 위해 phone_model을 grouby하여 그룹별 평균값과 표준편차를 구한 뒤, 모든 price의 z-score를 계산하였다. 이 값은 '동일기종' 내에서의 상대적 가격을 나타낸 값이다."
   ]
  },
  {
   "cell_type": "markdown",
   "id": "increasing-supervisor",
   "metadata": {},
   "source": [
    "- 개별 피처 탐색하기 : price 피처 탐색"
   ]
  },
  {
   "cell_type": "code",
   "execution_count": 6,
   "id": "inner-testimony",
   "metadata": {},
   "outputs": [
    {
     "data": {
      "text/plain": [
       "<AxesSubplot:>"
      ]
     },
     "execution_count": 6,
     "metadata": {},
     "output_type": "execute_result"
    },
    {
     "data": {
      "image/png": "[encoded data removed]",
      "text/plain": [
       "<Figure size 432x288 with 1 Axes>"
      ]
     },
     "metadata": {
      "needs_background": "light"
     },
     "output_type": "display_data"
    }
   ],
   "source": [
    "# 휴대폰 기종(phone_model)별 가격의 평균과 표준편차를 계산한다.\n",
    "df_price_model_mean = df.groupby('phone_model')['price'].transform(lambda x: np.mean(x))\n",
    "df_price_model_std = df.groupby('phone_model')['price'].transform(lambda x: np.std(x))\n",
    "\n",
    "# 이를 바탕으로 모든 데이터의 z-score를 계산한다. 이는 해당 데이터의 가격이 기종별 평균에 비해 어느 정도로 높거나 낮은지를 \n",
    "# 알 수 있게 하는 점수이다.\n",
    "df_price_model_z_score = (df['price'] - df_price_model_mean) / df_price_model_std\n",
    "df_price_model_z_score.hist(bins=\"auto\")"
   ]
  },
  {
   "cell_type": "markdown",
   "id": "arbitrary-demand",
   "metadata": {},
   "source": [
    "이 그래프로 출력한 결과, 동일 기종 내에서 price 피처의 분포는 정규분포에 가깝다는 것을 알 수 있다.\n",
    "이번엔 factory_price 피처의 분포, 그리고 factory_price와 price 간의 관계를 탐색해 보자."
   ]
  },
  {
   "cell_type": "markdown",
   "id": "foreign-drawing",
   "metadata": {},
   "source": [
    "- 개별 피처 탐색하기 : factory_price 피처 탐색"
   ]
  },
  {
   "cell_type": "code",
   "execution_count": 7,
   "id": "convenient-pathology",
   "metadata": {},
   "outputs": [
    {
     "data": {
      "text/plain": [
       "<AxesSubplot:xlabel='factory_price', ylabel='price'>"
      ]
     },
     "execution_count": 7,
     "metadata": {},
     "output_type": "execute_result"
    },
    {
     "data": {
      "image/png": "[encoded data removed]",
      "text/plain": [
       "<Figure size 432x288 with 1 Axes>"
      ]
     },
     "metadata": {
      "needs_background": "light"
     },
     "output_type": "display_data"
    },
    {
     "data": {
      "image/png": "[encoded data removed]",
      "text/plain": [
       "<Figure size 432x288 with 1 Axes>"
      ]
     },
     "metadata": {
      "needs_background": "light"
     },
     "output_type": "display_data"
    }
   ],
   "source": [
    "# factory_price 피처의 분포를 탐색한다.\n",
    "df['factory_price'].hist(bins=\"auto\")\n",
    "\n",
    "# factory_price와 price 피처를 산점도 그래프로 출력하여 상관 관계를 살펴본다.\n",
    "df.plot.scatter(x='factory_price', y='price')"
   ]
  },
  {
   "cell_type": "markdown",
   "id": "packed-registration",
   "metadata": {},
   "source": [
    "위 그래프의 출력 결과, 두 피처는 양의 상관 관계를 가지고 있다. 이를 통해 factory_price는 중고 휴대폰 판매 가격에 꽤 중요한 영향을 미친다. 다음으로 phone_model 피처를 탐색한 결과, 휴대폰 기종의 개수는  총 64개로 나타났다. 상위 5개의 기종을 제외하면 대부분 10 ~ 90개 사이의 데이터를 가지고 있다는 것을 알 수 있다."
   ]
  },
  {
   "cell_type": "markdown",
   "id": "accessory-little",
   "metadata": {},
   "source": [
    "- 개별 피처 탐색하기 : phone_model 피처 탐색"
   ]
  },
  {
   "cell_type": "code",
   "execution_count": 8,
   "id": "hazardous-performer",
   "metadata": {},
   "outputs": [
    {
     "name": "stdout",
     "output_type": "stream",
     "text": [
      "count      64.000000\n",
      "mean       77.359375\n",
      "std       143.432786\n",
      "min        10.000000\n",
      "25%        23.000000\n",
      "50%        35.000000\n",
      "75%        90.500000\n",
      "max      1002.000000\n",
      "Name: phone_model, dtype: float64\n"
     ]
    },
    {
     "data": {
      "text/plain": [
       "{'whiskers': [<matplotlib.lines.Line2D at 0x7f0e363db128>,\n",
       "  <matplotlib.lines.Line2D at 0x7f0e363db400>],\n",
       " 'caps': [<matplotlib.lines.Line2D at 0x7f0e363db6d8>,\n",
       "  <matplotlib.lines.Line2D at 0x7f0e363db9b0>],\n",
       " 'boxes': [<matplotlib.lines.Line2D at 0x7f0e363cd390>],\n",
       " 'medians': [<matplotlib.lines.Line2D at 0x7f0e363dbc88>],\n",
       " 'fliers': [<matplotlib.lines.Line2D at 0x7f0e363dbf60>],\n",
       " 'means': []}"
      ]
     },
     "execution_count": 8,
     "metadata": {},
     "output_type": "execute_result"
    },
    {
     "data": {
      "image/png": "[encoded data removed]",
      "text/plain": [
       "<Figure size 432x288 with 1 Axes>"
      ]
     },
     "metadata": {
      "needs_background": "light"
     },
     "output_type": "display_data"
    }
   ],
   "source": [
    "# 기종별 총 거래 데이터 개수를 집계한다.\n",
    "model_counts = df['phone_model'].value_counts()\n",
    "print(model_counts.describe())\n",
    "\n",
    "# 기종별 총 거래 데이터 개수를 상자 그림으로 살펴보자.\n",
    "plt.boxplot(model_counts)"
   ]
  },
  {
   "cell_type": "markdown",
   "id": "electrical-proof",
   "metadata": {},
   "source": [
    "지금까지 탐색한 피처를 바탕으로 가격 예측 모델을 학습해보자. 그 과정에서 도출되는 피처 중요도 분석을 통해 어떤 피처가 예측 모델에 중요한 피처인지를 알 수 있다. 이러한 분석은 렌덤포레스트라는 모델로 수행할 수 있다."
   ]
  },
  {
   "cell_type": "markdown",
   "id": "empty-hayes",
   "metadata": {},
   "source": [
    "- 렌덤 포레스트 모델이란?\n",
    "\n",
    "렌덤포레스트 모델은 앞서 살펴보았던 의사결정 나무 분석 방법을 응용한 것으로 의사 결정 나무를 여러 개 모아 하나의 숲을 구성하는 방법이다. 하나의 모델이 정답을 푸는 것이 아닌, 여러 개의 모델이 정답을 함께 푸는 것이기 때문에 더 정확한 학습이 가능하다.또한 이 방법은 모델이 생성되는 과정에서의 피처 중요도를 계산하기 때문에 탐색적 데이터 분석에 자주 사용된다. 랜덤 포레스트 모델은 회귀와 분류, 두 가지에 모두 적용이 가능하다."
   ]
  },
  {
   "cell_type": "markdown",
   "id": "genetic-delta",
   "metadata": {},
   "source": [
    "렌덤 포레스트는 sklearn 라이브러리의 RandomForestRegressor 클래스로 사용 가능하다. 이 클래스의 fit 함수를 실행하여 모델을 학습한 뒤, feature_importances_를 출력하면 피처 중요도를 출력할 수 있다. 아래의 실행 결과는 모델의 예측 평가 점수인 R2 score, RMSE를 나타낸 것이다. Train score와 Test score의 차이가 심한 것을 미루어 볼 때, 이 예측 모델은 과적합이 일어났다고 할 수 있다."
   ]
  },
  {
   "cell_type": "markdown",
   "id": "decent-hacker",
   "metadata": {},
   "source": [
    "- Random forest regressor를 이용한 가격 예측"
   ]
  },
  {
   "cell_type": "code",
   "execution_count": 9,
   "id": "according-prevention",
   "metadata": {},
   "outputs": [],
   "source": [
    "from sklearn.model_selection import train_test_split\n",
    "from sklearn.feature_extraction import DictVectorizer\n",
    "from sklearn.ensemble import RandomForestRegressor\n",
    "from sklearn.metrics import r2_score\n",
    "from sklearn.metrics import mean_squared_error"
   ]
  },
  {
   "cell_type": "code",
   "execution_count": 10,
   "id": "verified-signature",
   "metadata": {},
   "outputs": [],
   "source": [
    "# 데이터를 학습/테스트용 데이터로 분리한다.\n",
    "df = df[['price','phone_model','factory_price','maker','price_index','month']]\n",
    "df = pd.get_dummies(df,columns=['phone_model','maker','month'])\n",
    "X = df.loc[:, df.columns !='price']\n",
    "y = df['price']\n",
    "X_train, X_test, y_train, y_test = train_test_split(X,y,test_size=0.3, random_state=0)"
   ]
  },
  {
   "cell_type": "code",
   "execution_count": 11,
   "id": "reported-garbage",
   "metadata": {},
   "outputs": [],
   "source": [
    "# 랜덤 포레스트 모델을 학습한다.\n",
    "forest = RandomForestRegressor(n_estimators=1000,\n",
    "                              criterion='mse')\n",
    "forest.fit(X_train,y_train)\n",
    "y_train_pred = forest.predict(X_train)\n",
    "y_test_pred = forest.predict(X_test)"
   ]
  },
  {
   "cell_type": "code",
   "execution_count": 12,
   "id": "technical-impression",
   "metadata": {},
   "outputs": [
    {
     "name": "stdout",
     "output_type": "stream",
     "text": [
      "MSE train: 10629606583.939, test: 13869786617.291\n",
      "R^2 train: 0.781, test: 0.683\n"
     ]
    }
   ],
   "source": [
    "# 학습한 모델을 평가한다.\n",
    "print('MSE train: %.3f, test: %.3f' %(mean_squared_error(y_train,y_train_pred),\n",
    "                                     mean_squared_error(y_test, y_test_pred)))\n",
    "print('R^2 train: %.3f, test: %.3f'%(r2_score(y_train, y_train_pred),\n",
    "                                    r2_score(y_test, y_test_pred)))"
   ]
  },
  {
   "cell_type": "markdown",
   "id": "distributed-modeling",
   "metadata": {},
   "source": [
    "아래의 코드와 실행 결과는 랜덤 포레스트 모델의 피처 중요도를 출력한 것이다."
   ]
  },
  {
   "cell_type": "code",
   "execution_count": 13,
   "id": "similar-drive",
   "metadata": {},
   "outputs": [
    {
     "data": {
      "text/plain": [
       "[('factory_price', 0.4059412771341484),\n",
       " ('maker_apple', 0.2969665704508786),\n",
       " ('phone_model_galaxy s3 3g 8gb', 0.02214335755126495),\n",
       " ('phone_model_iphone se 64gb', 0.02184903571534052),\n",
       " ('price_index', 0.02067440244383609),\n",
       " ('phone_model_galaxy s4 32gb', 0.017086545532462798),\n",
       " ('month_2017-03', 0.01478287257051149),\n",
       " ('maker_samsung', 0.014712789035793653),\n",
       " ('phone_model_galaxy s6 32gb', 0.012582924738080153),\n",
       " ('month_2016-05', 0.01099365095990527)]"
      ]
     },
     "execution_count": 13,
     "metadata": {},
     "output_type": "execute_result"
    },
    {
     "data": {
      "image/png": "[encoded data removed]",
      "text/plain": [
       "<Figure size 432x288 with 1 Axes>"
      ]
     },
     "metadata": {
      "needs_background": "light"
     },
     "output_type": "display_data"
    }
   ],
   "source": [
    "# 학습한 모델의 피처 중요도를 그래프로 살펴본다.\n",
    "importances = forest.feature_importances_\n",
    "indices = np.argsort(importances)[::-1]\n",
    "plt.bar(range(X.shape[1]), importances[indices])\n",
    "\n",
    "# 학습한 모델의 피처 중요도를 출력한다.\n",
    "feat_labels = X.columns.tolist()\n",
    "feature = list(zip(feat_labels, forest.feature_importances_))\n",
    "sorted(feature, key=lambda tup: tup[1], reverse=True)[:10]"
   ]
  },
  {
   "cell_type": "markdown",
   "id": "rubber-damages",
   "metadata": {},
   "source": [
    "그렇다면 시간은 모델에 어떤 영향을 미칠까? 이를 알아보기 위해 month 피처의 중요도만 살펴보자."
   ]
  },
  {
   "cell_type": "code",
   "execution_count": 14,
   "id": "accomplished-doctrine",
   "metadata": {},
   "outputs": [
    {
     "name": "stdout",
     "output_type": "stream",
     "text": [
      "('month_2017-03', 0.01478287257051149)\n",
      "('month_2016-05', 0.01099365095990527)\n",
      "('month_2016-09', 0.008403642222469207)\n",
      "('month_2016-04', 0.00754796183598632)\n",
      "('month_2016-10', 0.006461208993586404)\n",
      "('month_2016-06', 0.004434834144756636)\n",
      "('month_2016-08', 0.0036054588147535877)\n",
      "('month_2016-07', 0.002716414447187438)\n",
      "('month_2016-03', 0.0024471929326292602)\n",
      "('month_2016-02', 0.0010583458515554083)\n"
     ]
    }
   ],
   "source": [
    "# month 피처 중, 영향력이 높은순으로 정렬하여 출력한다.\n",
    "for sorted_feature in sorted(feature, key=lambda tup: tup[1], reverse=True):\n",
    "    if \"month\" in sorted_feature[0]:\n",
    "        print(sorted_feature)"
   ]
  },
  {
   "cell_type": "markdown",
   "id": "representative-story",
   "metadata": {},
   "source": [
    "위 코드의 결과를 보면 '최근'에 가까운 'month'일수록 피처의 중요도가 높은 것을 알 수 있다."
   ]
  },
  {
   "cell_type": "markdown",
   "id": "blind-balloon",
   "metadata": {},
   "source": [
    "### stpe.2 피처 엔지니어링: 예측 모델 계산하기"
   ]
  },
  {
   "cell_type": "markdown",
   "id": "immune-specific",
   "metadata": {},
   "source": [
    "지금까지 수행한 탐색적 데이터 분석의 내용은 아래의 표와 같다. 이 내용을 토대로 가격 예측모델의 성능을 개선하기 위한 피처 엔지니어링을 적용해보자."
   ]
  },
  {
   "cell_type": "markdown",
   "id": "elder-search",
   "metadata": {},
   "source": [
    "- 기존 피처 가공하기 : 'create_date'"
   ]
  },
  {
   "cell_type": "code",
   "execution_count": 15,
   "id": "musical-ministry",
   "metadata": {},
   "outputs": [],
   "source": [
    "# 데이터를 다시 불러오자.\n",
    "df = pd.read_csv('/home/jaeyoon89/python-data-analysis/data/used_mobile_phone.csv')"
   ]
  },
  {
   "cell_type": "code",
   "execution_count": 16,
   "id": "bibliographic-disaster",
   "metadata": {},
   "outputs": [],
   "source": [
    "from datetime import datetime\n",
    "import time"
   ]
  },
  {
   "cell_type": "code",
   "execution_count": 17,
   "id": "round-marketplace",
   "metadata": {},
   "outputs": [],
   "source": [
    "# create_date 피처를 수치적으로 계산하기 위해 unixtime으로 변환하는 함수를 정의한다.\n",
    "def date_to_unixtime(date_str):\n",
    "    timestamp = time.mktime(datetime.strptime(date_str, '%Y-%m-%d').timetuple())\n",
    "    return timestamp"
   ]
  },
  {
   "cell_type": "code",
   "execution_count": 18,
   "id": "impaired-being",
   "metadata": {},
   "outputs": [],
   "source": [
    "# create_date 피처를 '현재와 얼마나 가까운 데이터인지' 판단하기 위한 점수를 생성한다. 먼저 unixtime으로 데이터를 변환한다.\n",
    "df['create_unixtime'] = df['create_date'].apply(lambda x : date_to_unixtime(x[:10]))"
   ]
  },
  {
   "cell_type": "code",
   "execution_count": 19,
   "id": "demanding-samba",
   "metadata": {},
   "outputs": [
    {
     "data": {
      "text/html": [
       "<div>\n",
       "<style scoped>\n",
       "    .dataframe tbody tr th:only-of-type {\n",
       "        vertical-align: middle;\n",
       "    }\n",
       "\n",
       "    .dataframe tbody tr th {\n",
       "        vertical-align: top;\n",
       "    }\n",
       "\n",
       "    .dataframe thead th {\n",
       "        text-align: right;\n",
       "    }\n",
       "</style>\n",
       "<table border=\"1\" class=\"dataframe\">\n",
       "  <thead>\n",
       "    <tr style=\"text-align: right;\">\n",
       "      <th></th>\n",
       "      <th>create_date</th>\n",
       "      <th>create_unixtime</th>\n",
       "      <th>create_time_score</th>\n",
       "    </tr>\n",
       "  </thead>\n",
       "  <tbody>\n",
       "    <tr>\n",
       "      <th>0</th>\n",
       "      <td>2017-03-19  4 35 00 PM</td>\n",
       "      <td>1.489849e+09</td>\n",
       "      <td>0.985612</td>\n",
       "    </tr>\n",
       "    <tr>\n",
       "      <th>1</th>\n",
       "      <td>2016-10-26  12 08 00 PM</td>\n",
       "      <td>1.477408e+09</td>\n",
       "      <td>0.640288</td>\n",
       "    </tr>\n",
       "    <tr>\n",
       "      <th>2</th>\n",
       "      <td>2016-10-25  12 52 00 PM</td>\n",
       "      <td>1.477321e+09</td>\n",
       "      <td>0.637890</td>\n",
       "    </tr>\n",
       "    <tr>\n",
       "      <th>3</th>\n",
       "      <td>2017-03-23  11 14 00 PM</td>\n",
       "      <td>1.490195e+09</td>\n",
       "      <td>0.995204</td>\n",
       "    </tr>\n",
       "    <tr>\n",
       "      <th>4</th>\n",
       "      <td>2016-04-11  7 35 00 PM</td>\n",
       "      <td>1.460300e+09</td>\n",
       "      <td>0.165468</td>\n",
       "    </tr>\n",
       "  </tbody>\n",
       "</table>\n",
       "</div>"
      ],
      "text/plain": [
       "               create_date  create_unixtime  create_time_score\n",
       "0   2017-03-19  4 35 00 PM     1.489849e+09           0.985612\n",
       "1  2016-10-26  12 08 00 PM     1.477408e+09           0.640288\n",
       "2  2016-10-25  12 52 00 PM     1.477321e+09           0.637890\n",
       "3  2017-03-23  11 14 00 PM     1.490195e+09           0.995204\n",
       "4   2016-04-11  7 35 00 PM     1.460300e+09           0.165468"
      ]
     },
     "execution_count": 19,
     "metadata": {},
     "output_type": "execute_result"
    }
   ],
   "source": [
    "# 변환된 unixtime에 min-max 스케일링을 적용한다.\n",
    "df['create_time_score'] = (df['create_unixtime']- df['create_unixtime'].min()) / (df['create_unixtime'].max() - df['create_unixtime'].min())\n",
    "df[['create_date','create_unixtime', 'create_time_score']].head()"
   ]
  },
  {
   "cell_type": "markdown",
   "id": "acoustic-senegal",
   "metadata": {},
   "source": [
    "다음은 phone_model에 대한 피처 엔지니어링을 수행한다. phone_model 피처는 '제품명+용량'으로 구성되어 있어 이를 나누어주기만 하면 2개의 분리된 피처를 얻을 수 있다. 어떤 효과가 있는지 살펴보자."
   ]
  },
  {
   "cell_type": "markdown",
   "id": "convinced-security",
   "metadata": {},
   "source": [
    "- 기존 피처의 가공 : phone_model"
   ]
  },
  {
   "cell_type": "code",
   "execution_count": 20,
   "id": "spatial-textbook",
   "metadata": {},
   "outputs": [
    {
     "data": {
      "text/html": [
       "<div>\n",
       "<style scoped>\n",
       "    .dataframe tbody tr th:only-of-type {\n",
       "        vertical-align: middle;\n",
       "    }\n",
       "\n",
       "    .dataframe tbody tr th {\n",
       "        vertical-align: top;\n",
       "    }\n",
       "\n",
       "    .dataframe thead th {\n",
       "        text-align: right;\n",
       "    }\n",
       "</style>\n",
       "<table border=\"1\" class=\"dataframe\">\n",
       "  <thead>\n",
       "    <tr style=\"text-align: right;\">\n",
       "      <th></th>\n",
       "      <th>phone_model_storage</th>\n",
       "      <th>phone_model_detail</th>\n",
       "    </tr>\n",
       "  </thead>\n",
       "  <tbody>\n",
       "    <tr>\n",
       "      <th>0</th>\n",
       "      <td>64gb</td>\n",
       "      <td>iphone 6</td>\n",
       "    </tr>\n",
       "    <tr>\n",
       "      <th>1</th>\n",
       "      <td>32gb</td>\n",
       "      <td>galaxy s6 edge</td>\n",
       "    </tr>\n",
       "    <tr>\n",
       "      <th>2</th>\n",
       "      <td>32gb</td>\n",
       "      <td>galaxy s6</td>\n",
       "    </tr>\n",
       "    <tr>\n",
       "      <th>3</th>\n",
       "      <td>32gb</td>\n",
       "      <td>lg g5</td>\n",
       "    </tr>\n",
       "    <tr>\n",
       "      <th>4</th>\n",
       "      <td>32gb</td>\n",
       "      <td>lg u</td>\n",
       "    </tr>\n",
       "  </tbody>\n",
       "</table>\n",
       "</div>"
      ],
      "text/plain": [
       "  phone_model_storage phone_model_detail\n",
       "0                64gb           iphone 6\n",
       "1                32gb     galaxy s6 edge\n",
       "2                32gb          galaxy s6\n",
       "3                32gb              lg g5\n",
       "4                32gb               lg u"
      ]
     },
     "execution_count": 20,
     "metadata": {},
     "output_type": "execute_result"
    }
   ],
   "source": [
    "# phone_model 피처에서 저장 용량(phone_model_storage) 피처를 추출한다.\n",
    "df['phone_model_storage'] = df['phone_model'].apply(lambda x: x.split(\" \")[-1])\n",
    "\n",
    "# phone_model 피처에서 기존 세부명(phone_model_detail) 피처를 추출한다.\n",
    "df['phone_model_detail'] = df['phone_model'].apply(lambda x: ' '.join(x.split(\" \")[:-1]))\n",
    "df[['phone_model_storage', 'phone_model_detail']].head()"
   ]
  },
  {
   "cell_type": "markdown",
   "id": "improving-concentrate",
   "metadata": {},
   "source": [
    "아래 코드는 phone_model 피처를 분리함으로써 얻을 수 있는 효과를 알아보기 위해 피처 분리이전과 이후의 분포를 상자 그림으로 비교해 보자."
   ]
  },
  {
   "cell_type": "markdown",
   "id": "flush-halloween",
   "metadata": {},
   "source": [
    "- 기존 피처의 가공 : phone_model"
   ]
  },
  {
   "cell_type": "code",
   "execution_count": 21,
   "id": "educated-springfield",
   "metadata": {},
   "outputs": [
    {
     "data": {
      "text/plain": [
       "{'whiskers': [<matplotlib.lines.Line2D at 0x7f0e310b57f0>,\n",
       "  <matplotlib.lines.Line2D at 0x7f0e310b5ac8>,\n",
       "  <matplotlib.lines.Line2D at 0x7f0e310c3c18>,\n",
       "  <matplotlib.lines.Line2D at 0x7f0e310c3eb8>],\n",
       " 'caps': [<matplotlib.lines.Line2D at 0x7f0e310b5da0>,\n",
       "  <matplotlib.lines.Line2D at 0x7f0e310c30b8>,\n",
       "  <matplotlib.lines.Line2D at 0x7f0e31051208>,\n",
       "  <matplotlib.lines.Line2D at 0x7f0e310514e0>],\n",
       " 'boxes': [<matplotlib.lines.Line2D at 0x7f0e310b5588>,\n",
       "  <matplotlib.lines.Line2D at 0x7f0e310c3860>],\n",
       " 'medians': [<matplotlib.lines.Line2D at 0x7f0e310c3390>,\n",
       "  <matplotlib.lines.Line2D at 0x7f0e31051780>],\n",
       " 'fliers': [<matplotlib.lines.Line2D at 0x7f0e310c3668>,\n",
       "  <matplotlib.lines.Line2D at 0x7f0e31051a58>],\n",
       " 'means': []}"
      ]
     },
     "execution_count": 21,
     "metadata": {},
     "output_type": "execute_result"
    },
    {
     "data": {
      "image/png": "[encoded data removed]",
      "text/plain": [
       "<Figure size 432x288 with 1 Axes>"
      ]
     },
     "metadata": {
      "needs_background": "light"
     },
     "output_type": "display_data"
    }
   ],
   "source": [
    "# phone_model 피처의 기종별 거래 데이터 개수를 집계한다.\n",
    "model_counts = df['phone_model'].value_counts()\n",
    "\n",
    "# phone_model_detail 피처의 기종별 거래 데이터 개수를 집계한다.\n",
    "model_detail_counts = df['phone_model_detail'].value_counts()\n",
    "data = [model_counts, model_detail_counts]\n",
    "\n",
    "# 두 피처간의 기종별 거래 데이터 개수를 비교하자.\n",
    "mpl_fig = plt.figure()\n",
    "ax = mpl_fig.add_subplot(111)\n",
    "ax.boxplot(data)"
   ]
  },
  {
   "cell_type": "markdown",
   "id": "headed-grill",
   "metadata": {},
   "source": [
    "이를 살펴본 결과, 쏠림 현상이 심해진 하나의 기종을 제외하면 전체적인 분포가 안정적으로 변한 것을 알 수 있다."
   ]
  },
  {
   "cell_type": "markdown",
   "id": "italic-australia",
   "metadata": {},
   "source": [
    "다음으론 텍스트 정보에 대한 피처 엔지니어링을 수행하자. 텍스트 정보에는 물품의 상태가 나타나 있을 것이다. 이는 가격 예측에 영향을 미칠 것이기 때문이다. 따라서 물품의 상태를 분류할 수 있는 감성 분류가 필요하다. "
   ]
  },
  {
   "cell_type": "markdown",
   "id": "specified-preparation",
   "metadata": {},
   "source": [
    "- 감성 분류로 물품의 상태 분류하기"
   ]
  },
  {
   "cell_type": "code",
   "execution_count": 22,
   "id": "spectacular-notice",
   "metadata": {},
   "outputs": [
    {
     "name": "stdout",
     "output_type": "stream",
     "text": [
      "-1.3966616903783375\n",
      "1.666982156397844\n"
     ]
    },
    {
     "data": {
      "image/png": "[encoded data removed]",
      "text/plain": [
       "<Figure size 432x288 with 1 Axes>"
      ]
     },
     "metadata": {
      "needs_background": "light"
     },
     "output_type": "display_data"
    }
   ],
   "source": [
    "# 거래 가격(price)의 z-score를 계산한다. 이는 해당 데이터의 가격이 기종의 평균에 비해 어느정도로 높거나 낮은지를 알 수 있게 하는 점수이다.\n",
    "df['price_by_group'] = df.groupby('phone_model_detail')['price'].transform(lambda x: (x - x.mean()) / x.std())\n",
    "\n",
    "# 거래 가격의 z-score(price_by_group)의 분포를 그래프로 출력한다.\n",
    "ax = df['price_by_group'].hist(bins=\"auto\")\n",
    "\n",
    "# z-score(price_by_group) 기준으로 하위 5%, 상위 5%에 해당하는 점수를 lower_bound, upper_bound 라고 지정한다.\n",
    "lower_bound = df['price_by_group'].quantile(0.05)\n",
    "upper_bound = df['price_by_group'].quantile(0.95)\n",
    "\n",
    "# lower_bound, upper_bound 그래프에 추가한다.\n",
    "ax.axvline(x=lower_bound, color='r', linestyle='dashed', linewidth=2)\n",
    "ax.axvline(x=upper_bound, color='r', linestyle='dashed', linewidth=2)\n",
    "\n",
    "# lower_bound를, upper_bound 출력한다.\n",
    "print(lower_bound)\n",
    "print(upper_bound)"
   ]
  },
  {
   "cell_type": "markdown",
   "id": "modified-constitutional",
   "metadata": {},
   "source": [
    "감성 분류의 정답 데이터를 'price_level'이라는 피처로 생성한 결과는 다음과 같다. "
   ]
  },
  {
   "cell_type": "markdown",
   "id": "sharp-spencer",
   "metadata": {},
   "source": [
    "- 감성 분류로 물품의 상태 분류하기."
   ]
  },
  {
   "cell_type": "code",
   "execution_count": 23,
   "id": "spatial-antigua",
   "metadata": {},
   "outputs": [
    {
     "data": {
      "text/html": [
       "<div>\n",
       "<style scoped>\n",
       "    .dataframe tbody tr th:only-of-type {\n",
       "        vertical-align: middle;\n",
       "    }\n",
       "\n",
       "    .dataframe tbody tr th {\n",
       "        vertical-align: top;\n",
       "    }\n",
       "\n",
       "    .dataframe thead th {\n",
       "        text-align: right;\n",
       "    }\n",
       "</style>\n",
       "<table border=\"1\" class=\"dataframe\">\n",
       "  <thead>\n",
       "    <tr style=\"text-align: right;\">\n",
       "      <th></th>\n",
       "      <th>price</th>\n",
       "      <th>price_lower</th>\n",
       "      <th>price_upper</th>\n",
       "      <th>price_level</th>\n",
       "      <th>text</th>\n",
       "    </tr>\n",
       "  </thead>\n",
       "  <tbody>\n",
       "    <tr>\n",
       "      <th>0</th>\n",
       "      <td>550000.0</td>\n",
       "      <td>180000.0</td>\n",
       "      <td>680000.0</td>\n",
       "      <td>1</td>\n",
       "      <td>아이폰6플러스 블랙+애플라이트 64기가 팝니다  아이폰6플러스 블랙+애플라이트 64...</td>\n",
       "    </tr>\n",
       "    <tr>\n",
       "      <th>1</th>\n",
       "      <td>380000.0</td>\n",
       "      <td>180000.0</td>\n",
       "      <td>414000.0</td>\n",
       "      <td>1</td>\n",
       "      <td>갤럭시s6엣지 32기가 팝니다 직거래  갤럭시s6엣지 32기가 품명 갤럭시s6엣지제...</td>\n",
       "    </tr>\n",
       "    <tr>\n",
       "      <th>2</th>\n",
       "      <td>300000.0</td>\n",
       "      <td>150000.0</td>\n",
       "      <td>349000.0</td>\n",
       "      <td>1</td>\n",
       "      <td>갤럭시s6 풀박스로 팝니다~~~ 새상품급  실기스조차 없어요  직접거래 구매한지 1...</td>\n",
       "    </tr>\n",
       "    <tr>\n",
       "      <th>3</th>\n",
       "      <td>290000.0</td>\n",
       "      <td>100000.0</td>\n",
       "      <td>500000.0</td>\n",
       "      <td>1</td>\n",
       "      <td>sk  g5 티탄 폰 단품판매합니다  직접거래 sk g5 티탄 폰 단품판매합니다 올...</td>\n",
       "    </tr>\n",
       "    <tr>\n",
       "      <th>4</th>\n",
       "      <td>280000.0</td>\n",
       "      <td>18000.0</td>\n",
       "      <td>400000.0</td>\n",
       "      <td>1</td>\n",
       "      <td>sony 엑스페리아 c5 ultra e5506 16gb  미사용 새제품 팝니다 1...</td>\n",
       "    </tr>\n",
       "  </tbody>\n",
       "</table>\n",
       "</div>"
      ],
      "text/plain": [
       "      price  price_lower  price_upper price_level  \\\n",
       "0  550000.0     180000.0     680000.0           1   \n",
       "1  380000.0     180000.0     414000.0           1   \n",
       "2  300000.0     150000.0     349000.0           1   \n",
       "3  290000.0     100000.0     500000.0           1   \n",
       "4  280000.0      18000.0     400000.0           1   \n",
       "\n",
       "                                                text  \n",
       "0  아이폰6플러스 블랙+애플라이트 64기가 팝니다  아이폰6플러스 블랙+애플라이트 64...  \n",
       "1  갤럭시s6엣지 32기가 팝니다 직거래  갤럭시s6엣지 32기가 품명 갤럭시s6엣지제...  \n",
       "2  갤럭시s6 풀박스로 팝니다~~~ 새상품급  실기스조차 없어요  직접거래 구매한지 1...  \n",
       "3  sk  g5 티탄 폰 단품판매합니다  직접거래 sk g5 티탄 폰 단품판매합니다 올...  \n",
       "4   sony 엑스페리아 c5 ultra e5506 16gb  미사용 새제품 팝니다 1...  "
      ]
     },
     "execution_count": 23,
     "metadata": {},
     "output_type": "execute_result"
    }
   ],
   "source": [
    "# lower_bound보다 낮으면 0, upper_bound보다 높으면 2, 그 중간이면 1로 가격의 상태를 분류하는 함수를 정의한다.\n",
    "def get_price_level(price, lower, upper):\n",
    "    if price <= lower:\n",
    "        return \"0\"\n",
    "    elif price >= upper:\n",
    "        return \"2\"\n",
    "    else:\n",
    "        return \"1\"\n",
    "\n",
    "# lower_bound보다 낮으면 0, upper_bound보다 높으면 2, 그 중간이면 1로 가격의 상태를 분류합니다.\n",
    "df['price_lower'] = df.groupby('phone_model_detail')['price'].transform(lambda x: x.quantile(0.05))\n",
    "df['price_upper'] = df.groupby('phone_model_detail')['price'].transform(lambda x: x.quantile(0.95))\n",
    "df['price_level'] = df.apply(lambda row: get_price_level(row['price'], row['price_lower'], \n",
    "                                                         row['price_upper']), axis=1)\n",
    "df[['price', 'price_lower', 'price_upper', 'price_level', 'text']].head()"
   ]
  },
  {
   "cell_type": "markdown",
   "id": "progressive-athletics",
   "metadata": {},
   "source": [
    "다음으로 텍스트 전처리 과정을 진행하자. 우선 used_mobile_phone_stopword.pkl 파일을 불러오자."
   ]
  },
  {
   "cell_type": "markdown",
   "id": "bright-fault",
   "metadata": {},
   "source": [
    "- 텍스트 전처리하기"
   ]
  },
  {
   "cell_type": "code",
   "execution_count": 24,
   "id": "aggregate-password",
   "metadata": {},
   "outputs": [
    {
     "name": "stdout",
     "output_type": "stream",
     "text": [
      "['거래', '입니', '판매', '아이폰', '갤럭시', '골드', '팝', '만원', '폰', '시']\n"
     ]
    }
   ],
   "source": [
    "import pickle\n",
    "import re\n",
    "\n",
    "# 중고나라 불용어 사전을 불러오자.\n",
    "with open('/home/jaeyoon89/python-data-analysis/data/used_mobile_phone_stopwords.pkl','rb') as f:\n",
    "    stopwords = pickle.load(f)\n",
    "# 불용어 사전에 등록된 단어 10개를 출력하자.\n",
    "print(stopwords[:10])"
   ]
  },
  {
   "cell_type": "code",
   "execution_count": 25,
   "id": "controlling-lying",
   "metadata": {},
   "outputs": [
    {
     "data": {
      "text/plain": [
       "1    4296\n",
       "0     334\n",
       "2     321\n",
       "Name: price_level, dtype: int64"
      ]
     },
     "execution_count": 25,
     "metadata": {},
     "output_type": "execute_result"
    }
   ],
   "source": [
    "df['price_level'].value_counts()"
   ]
  },
  {
   "cell_type": "markdown",
   "id": "a59f1b88",
   "metadata": {},
   "source": [
    "아래의 코드는 전처리된 데이터의 형태소를 추출하는 과정이다. 코드에서 정의된 함수 text_cleaning()은 다음과 같은 전처리를 수행한다.\n"
   ]
  },
  {
   "cell_type": "markdown",
   "id": "5dfc0fec",
   "metadata": {},
   "source": [
    "- 1. 텍스트에서 특수문자를 제거한다. 단'+'와 ',' 문자는 제거하지 않는다.\n",
    "- 2. 텍스트에서 숫자를 제거한다."
   ]
  },
  {
   "cell_type": "markdown",
   "id": "f410538f",
   "metadata": {},
   "source": [
    "또한 get_pos()는 불용어에 등장하지 않는 형태소만을 추출하여 반환하는 함수이다."
   ]
  },
  {
   "cell_type": "markdown",
   "id": "7e7b7e60",
   "metadata": {},
   "source": [
    "- 형태소 단위로 추출하기"
   ]
  },
  {
   "cell_type": "code",
   "execution_count": 26,
   "id": "464dae1a",
   "metadata": {},
   "outputs": [],
   "source": [
    "from konlpy.tag import Okt\n",
    "\n",
    "# + 를 제외한 특수문자를 제거하고, 숫자형태의 문자를 제거한다.\n",
    "def text_cleaning(text):\n",
    "    text = ''.join(c for c in text if c.isalnum() or c in '+, ')\n",
    "    text = ''.join([i for i in text if not i.isdigit()])\n",
    "    return text"
   ]
  },
  {
   "cell_type": "code",
   "execution_count": 27,
   "id": "794f4714",
   "metadata": {},
   "outputs": [],
   "source": [
    "# 불용어에 등장하지 않는 형태소만을 추출하여 반환하는 함수이다.\n",
    "def get_pos(x):\n",
    "    tagger = Okt()\n",
    "    poses = tagger.pos(x)\n",
    "    return [pos[0] for pos in poses if pos[0] not in stopwords]"
   ]
  },
  {
   "cell_type": "code",
   "execution_count": 28,
   "id": "1afb41f9",
   "metadata": {},
   "outputs": [
    {
     "name": "stdout",
     "output_type": "stream",
     "text": [
      "['+', '애플', '라이트', '팝니다', '+', '애플', '라이트', '팝니다', '+', '애플', '라이트', '팝니다', '리퍼', '기간', '만료', '되어서', '징', '하게', '되었습니다', '상태', '초', 'a', '급', '스', '없습니다', '+', '애플', '라이트', '팝니다', '+', '애플', '라이트', '팝니다', '리퍼', '기간', '만료', '되어서', '징', '하게', '되었습니다', '상태', '초', 'a', '급', '스', '없습니다', '징', '애플', '라이트', '홈', '버튼', '링', '카메라', '링', '볼륨', '버튼', '슬립', '버튼', '검금', '심플', '튀지', '않게', '이쁘게', '했구요', '유심', '꽂고', '바로', '사용', '하시면', '됩니다', '사람', '이냐', '자주', '물어보고', '실제', '더욱', '이쁩니다', '밤', '영롱하게', '맥북', '뒷', '사과', '로고', '비춰지고', '요전', '넘어가기', '위해', '합니다', '가능합니다', '박스', '어머니', '버리시고', '이어폰', '충전기', '정품', '드립니다', '직거래', '우선', '순', '위로', '정', '싶으시면', '선', '입금', '택배', '발송', '해드리겠습니다', '믿으시면', '직거래', '하시길', '추천', '해요', '안전', '합니다', '서울시', '강남구', '역삼동', '차병원', '사거리', '근처', '가격']\n"
     ]
    }
   ],
   "source": [
    "# 위 함수들을 적용한 형태소 추출을 테스트한다.\n",
    "df['text'] = df['text'].apply(lambda x : text_cleaning(x))\n",
    "result = get_pos(df['text'][0])\n",
    "print(result)"
   ]
  },
  {
   "cell_type": "markdown",
   "id": "82f11003",
   "metadata": {},
   "source": [
    "다음은 추출한 형태소에서 가장 빈도수가 높은 형태소 2500개를 선정한다. 2500개로 단어를 제한하는 이유는 텍스트 데이터의 피처를 제한하기 위함이다. 이를 제한하지 않으면 텍스트 데이터의 피처는 몇 만개, 혹은 몇 백만개로 늘어날 수 있다."
   ]
  },
  {
   "cell_type": "markdown",
   "id": "58110bbf",
   "metadata": {},
   "source": [
    "- 빈출 형태소 2500개 선정하기"
   ]
  },
  {
   "cell_type": "code",
   "execution_count": 29,
   "id": "db5dc040",
   "metadata": {
    "scrolled": true
   },
   "outputs": [
    {
     "data": {
      "text/plain": [
       "['입니다',\n",
       " '직거래',\n",
       " 's',\n",
       " '합니다',\n",
       " '택배',\n",
       " '사용',\n",
       " '급',\n",
       " '상태',\n",
       " '팝니다',\n",
       " '가능합니다',\n",
       " '정상',\n",
       " '사진',\n",
       " '가격',\n",
       " '+',\n",
       " '케이스',\n",
       " 'a',\n",
       " '주세요',\n",
       " '해지',\n",
       " '삭제',\n",
       " '제품',\n",
       " '있습니다',\n",
       " '박스',\n",
       " '가능',\n",
       " '직접',\n",
       " '액정',\n",
       " '배터리',\n",
       " '성품',\n",
       " '필름',\n",
       " '리퍼',\n",
       " '충전기',\n",
       " '없습니다',\n",
       " '풀',\n",
       " '개통',\n",
       " '유심',\n",
       " '즈',\n",
       " '안전',\n",
       " '스',\n",
       " '하기',\n",
       " '신청',\n",
       " '드립니다',\n",
       " '통신사',\n",
       " '구입',\n",
       " '약정',\n",
       " '이어폰',\n",
       " '공기',\n",
       " '새',\n",
       " '기변',\n",
       " '포함',\n",
       " '모델',\n",
       " '선택',\n",
       " '됩니다',\n",
       " '확인',\n",
       " '기간',\n",
       " '기스',\n",
       " '그레이',\n",
       " '찍힘',\n",
       " '방법',\n",
       " '바로',\n",
       " '할인',\n",
       " '제',\n",
       " '시기',\n",
       " '스페이스',\n",
       " '희망',\n",
       " '번호',\n",
       " '중고나라',\n",
       " '본체',\n",
       " '같이',\n",
       " '생활',\n",
       " '잘',\n",
       " '무',\n",
       " '퀵',\n",
       " '글',\n",
       " '된',\n",
       " '않을',\n",
       " '공식',\n",
       " '앱',\n",
       " '확정',\n",
       " '기능',\n",
       " '다운',\n",
       " '양',\n",
       " '호환',\n",
       " '케이블',\n",
       " '받기',\n",
       " '미',\n",
       " '이메일',\n",
       " '작성',\n",
       " '부분',\n",
       " '금지',\n",
       " '될수',\n",
       " '식아이디',\n",
       " '허위',\n",
       " '임의',\n",
       " '통보',\n",
       " '채우지',\n",
       " '핸드폰',\n",
       " '편한',\n",
       " '전혀',\n",
       " '충전',\n",
       " '내용',\n",
       " '연락처',\n",
       " '단말기',\n",
       " '부산',\n",
       " '대구',\n",
       " '미사',\n",
       " '정품',\n",
       " '중고',\n",
       " '문제',\n",
       " '없이',\n",
       " '이상',\n",
       " '보호',\n",
       " '방문',\n",
       " '없는',\n",
       " '외관',\n",
       " '외',\n",
       " '인천',\n",
       " '깨끗합니다',\n",
       " 'x',\n",
       " '초기',\n",
       " '하나',\n",
       " '참고',\n",
       " '이구',\n",
       " '요금',\n",
       " '개월',\n",
       " '이나',\n",
       " '사이트',\n",
       " '팔아요',\n",
       " '하시면',\n",
       " '했습니다',\n",
       " '동',\n",
       " '카페',\n",
       " '보내',\n",
       " '카톡',\n",
       " '블로그',\n",
       " '링크',\n",
       " '싸이',\n",
       " '강퇴',\n",
       " '삼성',\n",
       " '거치',\n",
       " '있는',\n",
       " '호선',\n",
       " '모든',\n",
       " '입금',\n",
       " '처리',\n",
       " '없음',\n",
       " '뒷',\n",
       " '핑크',\n",
       " '카메라',\n",
       " '거주지',\n",
       " '공',\n",
       " '하여',\n",
       " '역도',\n",
       " '재판매',\n",
       " '유도',\n",
       " '선',\n",
       " '교체',\n",
       " '강화유리',\n",
       " '경매',\n",
       " '만만',\n",
       " '부탁드립니다',\n",
       " '구성',\n",
       " '필수',\n",
       " '차대',\n",
       " '재시',\n",
       " '없고',\n",
       " '전체',\n",
       " '파손',\n",
       " '다른',\n",
       " '가능하며',\n",
       " '작동',\n",
       " '가능한',\n",
       " '교환',\n",
       " '드리겠습니다',\n",
       " '좋습니다',\n",
       " '기계',\n",
       " '생각',\n",
       " '그대로',\n",
       " '추가',\n",
       " '약간',\n",
       " '살짝',\n",
       " '바랍니다',\n",
       " '테두리',\n",
       " '풀박',\n",
       " '미개',\n",
       " '거의',\n",
       " '부담',\n",
       " '쪽',\n",
       " '조금',\n",
       " '비',\n",
       " '주시',\n",
       " 'as',\n",
       " '하지',\n",
       " '싸게',\n",
       " '때',\n",
       " '하겠습니다',\n",
       " '봉',\n",
       " '완전',\n",
       " '상품',\n",
       " '댓글',\n",
       " '착불',\n",
       " '부착',\n",
       " '때문',\n",
       " '금액',\n",
       " '아주',\n",
       " '폴더',\n",
       " '원하시면',\n",
       " '와인',\n",
       " '할',\n",
       " '하며',\n",
       " '수',\n",
       " '하단',\n",
       " '현재',\n",
       " '거주',\n",
       " '한번',\n",
       " '버튼',\n",
       " '더',\n",
       " '가능하고',\n",
       " '정말',\n",
       " '있고',\n",
       " '엘지',\n",
       " '커버',\n",
       " '블루',\n",
       " '번',\n",
       " '원합니다',\n",
       " '기본',\n",
       " '해주세요',\n",
       " '터치',\n",
       " '그냥',\n",
       " '하는',\n",
       " '용감',\n",
       " '시간',\n",
       " '전부',\n",
       " '대전',\n",
       " '되어',\n",
       " '통화',\n",
       " '센터',\n",
       " '있구요',\n",
       " '쿨',\n",
       " '깨끗한',\n",
       " '앞',\n",
       " '새거',\n",
       " '미국',\n",
       " '같습니다',\n",
       " '광주',\n",
       " '근처',\n",
       " '없구요',\n",
       " '하실',\n",
       " '착',\n",
       " '방식',\n",
       " '환불',\n",
       " '애플',\n",
       " '아래',\n",
       " '서비스',\n",
       " '젤리',\n",
       " '유리',\n",
       " '가능하구요',\n",
       " '선호',\n",
       " '않습니다',\n",
       " '수원',\n",
       " '모서리',\n",
       " '곳',\n",
       " '달',\n",
       " '하세요',\n",
       " '스마트폰',\n",
       " '화면',\n",
       " '경기도',\n",
       " '신품',\n",
       " '강화',\n",
       " '제트',\n",
       " '드려요',\n",
       " '특',\n",
       " '부품',\n",
       " '발송',\n",
       " '년월',\n",
       " '상단',\n",
       " '유플러스',\n",
       " '새것',\n",
       " '이후',\n",
       " '풀셋',\n",
       " '좋은',\n",
       " '사양',\n",
       " '홍',\n",
       " '역',\n",
       " '개봉',\n",
       " '테스트',\n",
       " '수리',\n",
       " '있어요',\n",
       " '아무',\n",
       " '투명',\n",
       " '잔기스',\n",
       " '흠집',\n",
       " '미노트',\n",
       " '분실',\n",
       " '천안',\n",
       " '받은',\n",
       " '나머지',\n",
       " '점',\n",
       " '하자',\n",
       " '하시고',\n",
       " '저렴하게',\n",
       " '않은',\n",
       " '신분',\n",
       " '유',\n",
       " '용량',\n",
       " '하시는',\n",
       " '전면',\n",
       " '언락폰',\n",
       " '양호',\n",
       " '금',\n",
       " '하였습니다',\n",
       " '보시다시피',\n",
       " '별도',\n",
       " '하구요',\n",
       " '방탄',\n",
       " '스그',\n",
       " '여분',\n",
       " '본',\n",
       " '하셔도',\n",
       " '무상',\n",
       " '따로',\n",
       " '세이프',\n",
       " '좀',\n",
       " '와이파이',\n",
       " '무선',\n",
       " '제외',\n",
       " '종',\n",
       " '되었습니다',\n",
       " '천원',\n",
       " '프로',\n",
       " '눌',\n",
       " '매트',\n",
       " '배송',\n",
       " '약',\n",
       " '절충',\n",
       " '했구요',\n",
       " '우선',\n",
       " '대리점',\n",
       " '인터넷',\n",
       " '없으며',\n",
       " '수수료',\n",
       " '다시',\n",
       " '초',\n",
       " '끼',\n",
       " '평일',\n",
       " '삽니다',\n",
       " '고장',\n",
       " '이번',\n",
       " '부근',\n",
       " '겁니다',\n",
       " '아님',\n",
       " '매장',\n",
       " '해드립니다',\n",
       " '보조',\n",
       " '하던',\n",
       " '인식',\n",
       " '불량',\n",
       " '포장',\n",
       " '부천',\n",
       " '걸',\n",
       " '군데',\n",
       " '베가',\n",
       " '언제',\n",
       " '월일',\n",
       " '첨부',\n",
       " '전주',\n",
       " '항상',\n",
       " '갤',\n",
       " '처분',\n",
       " '불가',\n",
       " '비는',\n",
       " '매우',\n",
       " '남음',\n",
       " '없어요',\n",
       " '참조',\n",
       " '국내',\n",
       " '언',\n",
       " '가입',\n",
       " '잔',\n",
       " '지문',\n",
       " '있어서',\n",
       " '장소',\n",
       " '절대',\n",
       " '밑',\n",
       " '해외',\n",
       " '되는',\n",
       " '용인',\n",
       " '적용',\n",
       " '오시',\n",
       " '옵티머스',\n",
       " '있으며',\n",
       " '유니크로',\n",
       " '무음',\n",
       " '실사',\n",
       " '분만',\n",
       " '좋아요',\n",
       " '팔',\n",
       " '안녕하세요',\n",
       " '하면서',\n",
       " '답변',\n",
       " '작은',\n",
       " '젠더',\n",
       " '가능해요',\n",
       " '아직',\n",
       " '당연히',\n",
       " '넥서스',\n",
       " '최초',\n",
       " '불입',\n",
       " '삼',\n",
       " '베터리',\n",
       " '드릴게요',\n",
       " '개인',\n",
       " '오른쪽',\n",
       " '아이디',\n",
       " '밧데리',\n",
       " '드릴께요',\n",
       " '스크래치',\n",
       " '보관',\n",
       " '관심',\n",
       " '있지만',\n",
       " '선불',\n",
       " '변경',\n",
       " '큰',\n",
       " '되고',\n",
       " '팩',\n",
       " '공장',\n",
       " '급처',\n",
       " '꼭',\n",
       " '예약',\n",
       " '혹시',\n",
       " '감사합니다',\n",
       " '출구',\n",
       " '이용',\n",
       " '되구요',\n",
       " '안심',\n",
       " '내장',\n",
       " '펜',\n",
       " '먼저',\n",
       " '했던',\n",
       " '버전',\n",
       " '아닙니다',\n",
       " '메인보드',\n",
       " '안산',\n",
       " '한지',\n",
       " '안됩니다',\n",
       " '주말',\n",
       " '사절',\n",
       " '스마트',\n",
       " '하면',\n",
       " '용이',\n",
       " '한국',\n",
       " '문',\n",
       " '최상',\n",
       " '오늘',\n",
       " '겔럭시',\n",
       " '맥스',\n",
       " '하게',\n",
       " '너무',\n",
       " '필요하시면',\n",
       " '자국',\n",
       " '일본',\n",
       " '물',\n",
       " '홈',\n",
       " '보기',\n",
       " '지금',\n",
       " '있음',\n",
       " 'nbsp',\n",
       " '최대한',\n",
       " '홍콩',\n",
       " '저녁',\n",
       " '답장',\n",
       " '보니',\n",
       " '가지',\n",
       " '있는데',\n",
       " '궁금하신',\n",
       " '쓰던',\n",
       " '보고',\n",
       " '왼쪽',\n",
       " '깨끗하고',\n",
       " '택포',\n",
       " '쪽지',\n",
       " '있으면',\n",
       " '작년',\n",
       " '기타',\n",
       " '반품',\n",
       " '뒤',\n",
       " '많은',\n",
       " '사항',\n",
       " '만료',\n",
       " '락',\n",
       " '문의사항',\n",
       " '아이언',\n",
       " '자세한',\n",
       " '상처',\n",
       " '그랜드',\n",
       " '범퍼',\n",
       " '붙여서',\n",
       " '진행',\n",
       " '청주',\n",
       " 'schw',\n",
       " '알파',\n",
       " '남아있습니다',\n",
       " '분당',\n",
       " '위해',\n",
       " '배송비',\n",
       " '망',\n",
       " '기준',\n",
       " '카드',\n",
       " '드리구요',\n",
       " '네오',\n",
       " '사실',\n",
       " '임',\n",
       " '보이는',\n",
       " '오후',\n",
       " '사파이어',\n",
       " '새로',\n",
       " '조건',\n",
       " '침수',\n",
       " '인근',\n",
       " '해요',\n",
       " '자세히',\n",
       " '처음',\n",
       " '강남',\n",
       " '환영',\n",
       " '이어팟',\n",
       " '물건',\n",
       " '원하시는',\n",
       " '등록',\n",
       " '이미지',\n",
       " '일산',\n",
       " '이동',\n",
       " '또한',\n",
       " '징',\n",
       " '비닐',\n",
       " '찍힘이',\n",
       " '완납',\n",
       " '무료',\n",
       " '단자',\n",
       " '이외',\n",
       " '연',\n",
       " '금제',\n",
       " '구성은',\n",
       " '찍힌',\n",
       " '의사',\n",
       " '중화역',\n",
       " '있으나',\n",
       " '하니',\n",
       " '부',\n",
       " '의정부',\n",
       " '있으니',\n",
       " '일반',\n",
       " '남았습니다',\n",
       " '칩',\n",
       " '톡',\n",
       " '엑스페리아',\n",
       " '후시',\n",
       " '받지',\n",
       " '붙여',\n",
       " '빠른',\n",
       " '락폰',\n",
       " '개호환',\n",
       " '현상',\n",
       " '대개',\n",
       " '얼마',\n",
       " '제거',\n",
       " '감안',\n",
       " '했는데',\n",
       " '하였고',\n",
       " '안전거래도',\n",
       " '팜',\n",
       " '하려고',\n",
       " '올립니다',\n",
       " '예정',\n",
       " '유지',\n",
       " '목포',\n",
       " '월희',\n",
       " '알뜰폰',\n",
       " '둘다',\n",
       " '성남',\n",
       " '악세사리',\n",
       " '공공',\n",
       " '물품',\n",
       " '크게',\n",
       " '울산',\n",
       " '안양',\n",
       " '심',\n",
       " '같은',\n",
       " '집',\n",
       " '어댑터',\n",
       " '않았습니다',\n",
       " 'iphone',\n",
       " '검수',\n",
       " '정중히',\n",
       " '레드',\n",
       " '전화기',\n",
       " '빼',\n",
       " '화웨이',\n",
       " '경기',\n",
       " '내년',\n",
       " '이력',\n",
       " '업무',\n",
       " '샤오미',\n",
       " '짐',\n",
       " '용기',\n",
       " '일단',\n",
       " '받고',\n",
       " '각',\n",
       " '있으시면',\n",
       " '광역시',\n",
       " '창원',\n",
       " '결과',\n",
       " '가죽',\n",
       " '설정',\n",
       " '하셔서',\n",
       " '어디',\n",
       " '이면',\n",
       " '지프로',\n",
       " '했고',\n",
       " '결제',\n",
       " '데이터',\n",
       " '전원',\n",
       " '미세한',\n",
       " 'aa',\n",
       " '가능하니',\n",
       " '있으',\n",
       " '써서',\n",
       " '받습니다',\n",
       " '기존',\n",
       " '등등',\n",
       " '없네요',\n",
       " '되도록',\n",
       " '무기',\n",
       " '실기',\n",
       " '자부',\n",
       " '아시겠지만',\n",
       " '세트',\n",
       " '반',\n",
       " '눈',\n",
       " '우측',\n",
       " '언락',\n",
       " '올해',\n",
       " '빨리',\n",
       " '제조',\n",
       " '++',\n",
       " '주변',\n",
       " '않으며',\n",
       " '봅니다',\n",
       " '지원',\n",
       " '함',\n",
       " '상관없이',\n",
       " '입니다구',\n",
       " '이유',\n",
       " '가서',\n",
       " '위주',\n",
       " '않고',\n",
       " '출시',\n",
       " '화이트골드',\n",
       " '오닉스',\n",
       " '티',\n",
       " '내부',\n",
       " '쓰실',\n",
       " '없어서',\n",
       " 'slte',\n",
       " '현금',\n",
       " '챙겨',\n",
       " '말씀',\n",
       " '보증',\n",
       " '에누리',\n",
       " 'sktg',\n",
       " '전용',\n",
       " '신용',\n",
       " '헬로모바일',\n",
       " '통일',\n",
       " '실제',\n",
       " '드리고',\n",
       " '깨끗하게',\n",
       " '스피커',\n",
       " '총',\n",
       " '흰색',\n",
       " '우체국택배',\n",
       " '보면',\n",
       " '통신',\n",
       " '스카이',\n",
       " '쓰시',\n",
       " '밖에',\n",
       " '원래',\n",
       " '정보',\n",
       " '물론',\n",
       " '날',\n",
       " '마지막',\n",
       " '되어있습니다',\n",
       " '받았습니다',\n",
       " '애플스토어',\n",
       " '믿고',\n",
       " '흔적',\n",
       " '되면',\n",
       " '통',\n",
       " '드림',\n",
       " '실리콘',\n",
       " '선물',\n",
       " '위치',\n",
       " '조정',\n",
       " '회사',\n",
       " 'plus',\n",
       " '근무',\n",
       " '바',\n",
       " '내놓습니다',\n",
       " '상해',\n",
       " '붙이',\n",
       " '있어',\n",
       " '지장',\n",
       " '되지',\n",
       " '셋',\n",
       " '부평',\n",
       " '편입',\n",
       " '김포',\n",
       " '의무',\n",
       " '안전하게',\n",
       " '일이',\n",
       " '시크릿',\n",
       " '칠',\n",
       " '거리',\n",
       " '인치',\n",
       " '역시',\n",
       " '흥정',\n",
       " '찔러',\n",
       " '빼고',\n",
       " '순천',\n",
       " 'c',\n",
       " '비밀번호',\n",
       " '잠금',\n",
       " 'sphw',\n",
       " '부탁',\n",
       " 'cj',\n",
       " '직',\n",
       " '되며',\n",
       " '성능',\n",
       " '최상급',\n",
       " 'aaa',\n",
       " '사서',\n",
       " '해지한',\n",
       " '램',\n",
       " '잠실',\n",
       " '스크레치',\n",
       " '걱정',\n",
       " '늦어요',\n",
       " '법적',\n",
       " '찍힘은',\n",
       " '순',\n",
       " '불로',\n",
       " '없지만',\n",
       " 'lgsu',\n",
       " '다녀서',\n",
       " '넣어',\n",
       " '쓰고',\n",
       " '카카오',\n",
       " '받아서',\n",
       " '일주일',\n",
       " '지하철',\n",
       " '직구',\n",
       " '무조건',\n",
       " '평택',\n",
       " '협의',\n",
       " '루나',\n",
       " '잔기',\n",
       " '좋구요',\n",
       " '끝',\n",
       " '죄송합니다',\n",
       " '법',\n",
       " '빠르게',\n",
       " '하다가',\n",
       " '찍어',\n",
       " '안나',\n",
       " '로만',\n",
       " '브라운',\n",
       " '육',\n",
       " '티타늄',\n",
       " '안전한',\n",
       " '책임집니다',\n",
       " '되서',\n",
       " 'note',\n",
       " '색',\n",
       " '티탄',\n",
       " '여기',\n",
       " '일체',\n",
       " '메모리',\n",
       " '측면',\n",
       " '옆',\n",
       " '드릴수',\n",
       " '오셔서',\n",
       " '외부',\n",
       " 'gold',\n",
       " '빼고는',\n",
       " '우체국',\n",
       " '깨짐',\n",
       " '고객',\n",
       " '좋음',\n",
       " '특성',\n",
       " '기단',\n",
       " 'lt',\n",
       " 'dmb',\n",
       " 'lglu',\n",
       " '좋겠습니다',\n",
       " '계속',\n",
       " '위쪽',\n",
       " '알',\n",
       " '하는데',\n",
       " '깨끗이',\n",
       " '하루',\n",
       " '드릴',\n",
       " '롬',\n",
       " '애지중지',\n",
       " '정',\n",
       " '서울시',\n",
       " '편이',\n",
       " '관계',\n",
       " '신규',\n",
       " '년도',\n",
       " '하였으며',\n",
       " '업',\n",
       " '어플',\n",
       " '지난',\n",
       " '쓴',\n",
       " '방수',\n",
       " '조회',\n",
       " '관',\n",
       " '하셔야',\n",
       " '시오',\n",
       " '슈피겐',\n",
       " '앞뒤',\n",
       " '추천',\n",
       " 'lgsh',\n",
       " '서구',\n",
       " '상관없습니다',\n",
       " '가능하십니다',\n",
       " 'm',\n",
       " '울',\n",
       " '별로',\n",
       " '이상무',\n",
       " '고속',\n",
       " '마시고',\n",
       " '등급',\n",
       " '저촉',\n",
       " '이기',\n",
       " '됐습니다',\n",
       " 'smnk',\n",
       " '끝났습니다',\n",
       " '취급',\n",
       " '요청',\n",
       " '동봉',\n",
       " '팬택',\n",
       " '수준',\n",
       " '맨',\n",
       " '깨끗함',\n",
       " '세용',\n",
       " '동대문구',\n",
       " '깨진',\n",
       " '보입니다',\n",
       " '강동',\n",
       " '사설',\n",
       " '계양구',\n",
       " '업자',\n",
       " '퀄컴',\n",
       " '바꾸게',\n",
       " '본인',\n",
       " '키',\n",
       " '되있습니다',\n",
       " '이내',\n",
       " '진동',\n",
       " '같은거',\n",
       " '사은',\n",
       " '않아',\n",
       " '스티커',\n",
       " '깔끔한',\n",
       " '뽁뽁',\n",
       " '송파',\n",
       " '여부',\n",
       " '홍대',\n",
       " '롤리팝',\n",
       " '핀',\n",
       " 'im',\n",
       " '깨끗',\n",
       " '블루투스',\n",
       " '씌우고',\n",
       " '깔끔합니다',\n",
       " '라인',\n",
       " '했어요',\n",
       " '남아',\n",
       " '쓰셔도',\n",
       " '할부',\n",
       " '값',\n",
       " '라이트닝',\n",
       " '해드리겠습니다',\n",
       " '보이지',\n",
       " '남겨주세요',\n",
       " '하다',\n",
       " '샤베트',\n",
       " 'p',\n",
       " '검색',\n",
       " '끼워서',\n",
       " '인하',\n",
       " '남은',\n",
       " '받을',\n",
       " '관련',\n",
       " '드리고요',\n",
       " '경산',\n",
       " '끼우면',\n",
       " '사기',\n",
       " '영',\n",
       " '광양',\n",
       " '퀵서비스',\n",
       " '사람',\n",
       " '넣어서',\n",
       " '아니니',\n",
       " '마세요',\n",
       " '상의',\n",
       " '짜리',\n",
       " '현',\n",
       " '낮',\n",
       " '깨끗해요',\n",
       " '여러',\n",
       " '잭',\n",
       " '흠',\n",
       " '됨',\n",
       " '끝난',\n",
       " '설치',\n",
       " '있는거',\n",
       " '가장',\n",
       " '진짜',\n",
       " '광대역',\n",
       " '없다고',\n",
       " '찍힘이나',\n",
       " '원하구요',\n",
       " 'ok',\n",
       " 'lgkh',\n",
       " '자급',\n",
       " '아이',\n",
       " '경남',\n",
       " '오전',\n",
       " '부탁드려요',\n",
       " '일괄',\n",
       " '가셔서',\n",
       " '올려',\n",
       " '하시기',\n",
       " '대신',\n",
       " '촬영',\n",
       " '전북',\n",
       " '바꾸면서',\n",
       " '저장',\n",
       " '한글',\n",
       " '시세',\n",
       " '상자',\n",
       " '여수',\n",
       " '칠이사이',\n",
       " '답터',\n",
       " '착용',\n",
       " '이전',\n",
       " '멀쩡합니다',\n",
       " '연결',\n",
       " '해보니',\n",
       " '최저',\n",
       " '당일',\n",
       " '편의점',\n",
       " 'shves',\n",
       " '써',\n",
       " '회',\n",
       " '알리',\n",
       " '드리며',\n",
       " '없고요',\n",
       " '파는',\n",
       " '있네요',\n",
       " '아예',\n",
       " '중랑구',\n",
       " '일자',\n",
       " '있고요',\n",
       " '월말',\n",
       " '쓰다가',\n",
       " '여서',\n",
       " '와같이',\n",
       " '받아',\n",
       " '소니',\n",
       " '스타일',\n",
       " '휘',\n",
       " '긁',\n",
       " '되었고',\n",
       " '요구',\n",
       " '가구',\n",
       " '뭐',\n",
       " '강동구',\n",
       " '실물',\n",
       " '넣고',\n",
       " '붙어있는',\n",
       " '되요',\n",
       " '가능하고요',\n",
       " '정식',\n",
       " '강남역',\n",
       " '눌러서',\n",
       " '점검',\n",
       " '일대',\n",
       " '보험',\n",
       " '밤',\n",
       " '둘',\n",
       " ...]"
      ]
     },
     "execution_count": 29,
     "metadata": {},
     "output_type": "execute_result"
    }
   ],
   "source": [
    "from collections import Counter\n",
    "\n",
    "# get_pos() 함수를 모든 텍스트 데이터에 적용하여 형태소 말뭉치를 추출한다.\n",
    "corpus = sum(df['text'].apply(lambda x : get_pos(x)).tolist(), [])\n",
    "\n",
    "# 추출된 형태소 말뭉치에서 가장 많이 등장한 형태소 2500개를 추출한다.\n",
    "counter = Counter(corpus)\n",
    "common_words = [key for key, _ in counter.most_common(2500)]\n",
    "common_words"
   ]
  },
  {
   "cell_type": "markdown",
   "id": "6b80ee17",
   "metadata": {},
   "source": [
    "이제 전처리가 완료된 텍스트 데이터를 학습 데이터셋의 형태로 변환한다. 피처를 변환하는 방식은 TF-IDF를 사용하였으며, 아래 코드에서 클래스 불균형을 맞추기 위해 부정데이터:중립데이터:긍정데이터를 1:3:1의 비율로 데이터를 추출하였다. 일반적으론 1:1:1의 비율로 데이터를 추출하지만 예제에선 부정 데이터와 긍정 데이터의 양이 많지 않기 때문에 중립 데이터의 비중을 늘렸다."
   ]
  },
  {
   "cell_type": "markdown",
   "id": "324ac570",
   "metadata": {},
   "source": [
    "- TF-IDF 벡터 생성하기"
   ]
  },
  {
   "cell_type": "code",
   "execution_count": 46,
   "id": "3f6164d8",
   "metadata": {},
   "outputs": [
    {
     "data": {
      "text/plain": [
       "1    4296\n",
       "0     334\n",
       "2     321\n",
       "Name: price_level, dtype: int64"
      ]
     },
     "execution_count": 46,
     "metadata": {},
     "output_type": "execute_result"
    }
   ],
   "source": [
    "df['price_level'].value_counts()"
   ]
  },
  {
   "cell_type": "code",
   "execution_count": 47,
   "id": "c54c2b1e",
   "metadata": {},
   "outputs": [
    {
     "name": "stdout",
     "output_type": "stream",
     "text": [
      "(1284, 2476)\n",
      "(321, 2476)\n"
     ]
    }
   ],
   "source": [
    "from sklearn.feature_extraction.text import CountVectorizer\n",
    "from sklearn.feature_extraction.text import TfidfTransformer\n",
    "\n",
    "# 빈출 형태소를 제외한 모든 형태소를 제거하는 함수를 정의한다.\n",
    "def get_common_pos(x):\n",
    "    tagger = Okt()\n",
    "    poses = tagger.pos(x)\n",
    "    return [pos[0] for pos in poses if pos[0] in common_words]\n",
    "\n",
    "# 1:3:1 비율로 랜덤 샘플링을 수행한다.\n",
    "negative_random = df[df['price_level']=='0'].sample(321, random_state=30)\n",
    "neutral_random = df[df['price_level']=='1'].sample(321*3, random_state=30)\n",
    "positive_random = df[df['price_level']=='2'].sample(321, random_state=30)\n",
    "\n",
    "# 샘플링 완료된 데이터셋을 정의한다.\n",
    "df_sample = negative_random.append(neutral_random).append(positive_random)\n",
    "\n",
    "# TF-IDF를 수행하여 피처를 변환한다.\n",
    "index_vectorizer = CountVectorizer(tokenizer = lambda x: get_common_pos(x))\n",
    "X = index_vectorizer.fit_transform(df_sample['text'].tolist())\n",
    "tfidf_vectorizer = TfidfTransformer()\n",
    "X = tfidf_vectorizer.fit_transform(X)\n",
    "\n",
    "# 감성 분류를 위한 학습 데이터셋을 정의한다.\n",
    "y = df_sample['price_level']\n",
    "x_train, x_test, y_train, y_test = train_test_split(X, y, test_size=0.20, random_state=30)\n",
    "print(x_train.shape)\n",
    "print(x_test.shape)"
   ]
  },
  {
   "cell_type": "markdown",
   "id": "067fe693",
   "metadata": {},
   "source": [
    "실행 결과 학습 데이터셋은 1284개, 테스트 데이터셋은 321개가 생성되었고 형태소를 표현하는 피처는 2476개가 생성되었다."
   ]
  },
  {
   "cell_type": "markdown",
   "id": "8bc17c97",
   "metadata": {},
   "source": [
    "아래 코드는 TF-IDF 피처 변환이 완료된 데이터셋으로 분류 모델을 학습한 것이다. 분류 모델은 SVM이라는 모델을 사용했고, 약 0.8정도의 학습되었다. 이에 대한 Confusion Matrix를 살펴보면 꽤나 정확하게 분류 모델이 학습되었음을 알 수 있다."
   ]
  },
  {
   "cell_type": "markdown",
   "id": "1839160a",
   "metadata": {},
   "source": [
    "- 상품의 상태 분류하기"
   ]
  },
  {
   "cell_type": "code",
   "execution_count": 48,
   "id": "a1288b6b",
   "metadata": {},
   "outputs": [
    {
     "name": "stdout",
     "output_type": "stream",
     "text": [
      "Accuracy: 0.77\n"
     ]
    }
   ],
   "source": [
    "from sklearn.metrics import accuracy_score\n",
    "from sklearn.svm import SVC\n",
    "\n",
    "# 비선형 SVM 분류 모델을 학습하고 평가한다.\n",
    "svm = SVC(kernel='rbf', C=10.0, random_state=0, gamma=0.10)\n",
    "svm.fit(x_train, y_train)\n",
    "y_pred_ksvc = svm.predict(x_test)\n",
    "print('Accuracy: %.2f' % accuracy_score(y_test, y_pred_ksvc))"
   ]
  },
  {
   "cell_type": "code",
   "execution_count": 49,
   "id": "83417d43",
   "metadata": {},
   "outputs": [
    {
     "name": "stdout",
     "output_type": "stream",
     "text": [
      "[[ 30  28   4]\n",
      " [ 10 181  10]\n",
      " [  2  21  35]]\n"
     ]
    }
   ],
   "source": [
    "from sklearn.metrics import confusion_matrix\n",
    "\n",
    "# Confusion Matrix를 출력한다.\n",
    "confmat = confusion_matrix(y_true=y_test, y_pred=y_pred_ksvc)\n",
    "print(confmat)"
   ]
  },
  {
   "cell_type": "markdown",
   "id": "d8c67cbb",
   "metadata": {},
   "source": [
    "### Step.3 예측 : 중고 휴대폰 거래가 예측하기"
   ]
  },
  {
   "cell_type": "markdown",
   "id": "1b71b803",
   "metadata": {},
   "source": [
    "이제 다시 한번 가격 예측 모델을 학습해 보자. 아래의 실행 결과는 새로운 피처로 예측 모델을 다시 학습한 결과이다. 이를 통해 Train R2 score, Test R2 score 등의 지표가 매우 상승하였음을 확인할 수 있지만, 여전히 과적합이 발생하고 있다는 것 또한 확인할 수 있다. 그리고 피처 중요도를 다시 분석한 결과, 영향력이 높은 피처 중 create_time_score, product_status가 있다는 것을 확인할 수 있다."
   ]
  },
  {
   "cell_type": "markdown",
   "id": "130d23ad",
   "metadata": {},
   "source": [
    "- Random forest regressor 재학습하기"
   ]
  },
  {
   "cell_type": "code",
   "execution_count": 50,
   "id": "e1a97d33",
   "metadata": {},
   "outputs": [],
   "source": [
    "# text 피처로부터 '상품 상태 피처'를 생성한다.\n",
    "X = index_vectorizer.transform(df['text'].tolist())\n",
    "X = tfidf_vectorizer.transform(X)\n",
    "df['product_status'] = pd.Series(svm.predict(X))"
   ]
  },
  {
   "cell_type": "code",
   "execution_count": 52,
   "id": "4297726b",
   "metadata": {},
   "outputs": [],
   "source": [
    "# 랜덤 포레스트 모델 학습을 위한 데이터를 준비한다.\n",
    "df = df[['price', 'factory_price', 'maker', 'price_index', 'create_time_score', 'phone_model_storage',\n",
    "                'phone_model_detail', 'product_status']]\n",
    "df = pd.get_dummies(df, columns=['maker','phone_model_storage','phone_model_detail','product_status'])"
   ]
  },
  {
   "cell_type": "code",
   "execution_count": 53,
   "id": "c7993f84",
   "metadata": {},
   "outputs": [],
   "source": [
    "# 학습/테스트 데이터를 분리한다.\n",
    "X = df.loc[:, df.columns !='price']\n",
    "y = df['price']\n",
    "X_train, X_test, y_train, y_test = train_test_split(X,y,test_size=0.3,random_state=0)"
   ]
  },
  {
   "cell_type": "code",
   "execution_count": 54,
   "id": "45111874",
   "metadata": {},
   "outputs": [
    {
     "name": "stdout",
     "output_type": "stream",
     "text": [
      "MSE train: 4773645749.137, test: 11017774616.937\n",
      "R^2 train: 0.902, test: 0.748\n"
     ]
    }
   ],
   "source": [
    "# 랜덤 포레스트 모델을 학습하고 평가한다.\n",
    "forest = RandomForestRegressor(n_estimators=1000,\n",
    "                               criterion='mse')\n",
    "forest.fit(X_train, y_train)\n",
    "y_train_pred = forest.predict(X_train)\n",
    "y_test_pred = forest.predict(X_test)\n",
    "print('MSE train: %.3f, test: %.3f' % (\n",
    "        mean_squared_error(y_train, y_train_pred),\n",
    "        mean_squared_error(y_test, y_test_pred)))\n",
    "print('R^2 train: %.3f, test: %.3f' % (\n",
    "        r2_score(y_train, y_train_pred),\n",
    "        r2_score(y_test, y_test_pred)))"
   ]
  },
  {
   "cell_type": "code",
   "execution_count": 56,
   "id": "aab49f00",
   "metadata": {},
   "outputs": [
    {
     "data": {
      "text/plain": [
       "[<matplotlib.lines.Line2D at 0x7f0ddd8be780>]"
      ]
     },
     "execution_count": 56,
     "metadata": {},
     "output_type": "execute_result"
    },
    {
     "data": {
      "image/png": "[encoded data removed]",
      "text/plain": [
       "<Figure size 432x288 with 1 Axes>"
      ]
     },
     "metadata": {
      "needs_background": "light"
     },
     "output_type": "display_data"
    }
   ],
   "source": [
    "# 피처 중요도 plot 을 출력한다.\n",
    "importances = forest.feature_importances_\n",
    "plt.plot(importances, \"o\")"
   ]
  },
  {
   "cell_type": "code",
   "execution_count": 57,
   "id": "982b428f",
   "metadata": {},
   "outputs": [
    {
     "data": {
      "text/plain": [
       "[('maker_apple', 0.2543507464906023),\n",
       " ('factory_price', 0.25333310231260026),\n",
       " ('create_time_score', 0.11654417957554435),\n",
       " ('phone_model_storage_16gb', 0.06025384434282711),\n",
       " ('product_status_2', 0.047092572747126506),\n",
       " ('phone_model_detail_galaxy s7 edge', 0.029231983949269756),\n",
       " ('phone_model_storage_64gb', 0.026883102768965418),\n",
       " ('phone_model_detail_galaxy note5', 0.0247083709924326),\n",
       " ('phone_model_detail_galaxy s7', 0.022464167900807866),\n",
       " ('product_status_0', 0.021591495211777917)]"
      ]
     },
     "execution_count": 57,
     "metadata": {},
     "output_type": "execute_result"
    }
   ],
   "source": [
    "# 피처 중요도를 print로 출력한다.\n",
    "feat_labels = X.columns.tolist()\n",
    "feature = list(zip(feat_labels, forest.feature_importances_))\n",
    "sorted(feature, key=lambda tup: tup[1], reverse=True)[:10]"
   ]
  },
  {
   "cell_type": "markdown",
   "id": "f1a8e0eb",
   "metadata": {},
   "source": [
    "예측이 얼마나 잘 된 것인지를 산점도 그래프로도 살펴보자. 그래프의 x,y축은 각각 실제 가격, 예측 가격을 의미한다. 아래 그래프를 통해 몇몇 이상치를 제외하면 예측이 잘 수행된 것을 확인할 수 있다."
   ]
  },
  {
   "cell_type": "code",
   "execution_count": 58,
   "id": "0d81b63c",
   "metadata": {},
   "outputs": [
    {
     "data": {
      "text/plain": [
       "<matplotlib.collections.PathCollection at 0x7f0e312376d8>"
      ]
     },
     "execution_count": 58,
     "metadata": {},
     "output_type": "execute_result"
    },
    {
     "data": {
      "image/png": "[encoded data removed]",
      "text/plain": [
       "<Figure size 432x288 with 1 Axes>"
      ]
     },
     "metadata": {
      "needs_background": "light"
     },
     "output_type": "display_data"
    }
   ],
   "source": [
    "plt.scatter(y_test.values, y_test_pred)"
   ]
  },
  {
   "cell_type": "markdown",
   "id": "7f3bb9eb",
   "metadata": {},
   "source": [
    "모델을 학습할 때는 파라미터를 어떻게 설정하느냐에 따라 예측의 성능이 달라질 수 있다. 반복적인 실행으로 최적의 파라미터를 찾아내는 방법 중의 하나가 Greedy Randomized Search라는 방법이다. 그리고 다음의 코드는 이 방법을 실행하는 코드이다. 우리는 파라미터의 후보군을 설정하고, RandomizedSearchCV 클래스가 실행할 random_grid를 지정해주기만 하면 된다."
   ]
  },
  {
   "cell_type": "markdown",
   "id": "bfa0fd30",
   "metadata": {},
   "source": [
    "- 최적의 모델 파라미터 찾기"
   ]
  },
  {
   "cell_type": "code",
   "execution_count": 60,
   "id": "4f7cddbe",
   "metadata": {},
   "outputs": [
    {
     "name": "stdout",
     "output_type": "stream",
     "text": [
      "Fitting 3 folds for each of 100 candidates, totalling 300 fits\n"
     ]
    },
    {
     "data": {
      "text/plain": [
       "RandomizedSearchCV(cv=3, estimator=RandomForestRegressor(), n_iter=100,\n",
       "                   n_jobs=-1,\n",
       "                   param_distributions={'bootstrap': [True, False],\n",
       "                                        'max_depth': [10, 20, 30, 40, 50, 60,\n",
       "                                                      70, 80, 90, 100, 110,\n",
       "                                                      None],\n",
       "                                        'max_features': ['auto', 'sqrt'],\n",
       "                                        'n_estimators': [200, 400, 600, 800,\n",
       "                                                         1000, 1200, 1400, 1600,\n",
       "                                                         1800, 2000]},\n",
       "                   random_state=42, verbose=2)"
      ]
     },
     "execution_count": 60,
     "metadata": {},
     "output_type": "execute_result"
    }
   ],
   "source": [
    "from sklearn.model_selection import RandomizedSearchCV\n",
    "\n",
    "# Randomized Search로 찾아낼 파라미터 후보군을 각각 리스트로 선정한다.\n",
    "n_estimators = [int(x) for x in np.linspace(start=200, stop = 2000, num = 10)]\n",
    "max_features = ['auto','sqrt']\n",
    "max_depth = [int(x) for x in np.linspace(10, 110, num=11)]\n",
    "max_depth.append(None)\n",
    "bootstrap = [True, False]\n",
    "\n",
    "# RandomizedSearchCV 오브젝트를 생성하여 모델을 정의한다.\n",
    "random_grid = {'n_estimators': n_estimators,\n",
    "              'max_features': max_features,\n",
    "              'max_depth': max_depth,\n",
    "              'bootstrap': bootstrap}\n",
    "forest = RandomForestRegressor()\n",
    "optimal_forest = RandomizedSearchCV(estimator = forest,\n",
    "                                   param_distributions = random_grid,\n",
    "                                   n_iter = 100,\n",
    "                                   cv = 3,\n",
    "                                   verbose = 2,\n",
    "                                   random_state = 42,\n",
    "                                   n_jobs = -1)\n",
    "\n",
    "# RandomizedSearchCV 모델을 학습한다.\n",
    "X = df.loc[:, df.columns !='price']\n",
    "y = df['price']\n",
    "optimal_forest.fit(X,y)"
   ]
  },
  {
   "cell_type": "markdown",
   "id": "948f9773",
   "metadata": {},
   "source": [
    "그리고 다음의 출력 결과는 Greedy Randomzed Search를 실행하여 찾아낸 최적의 파라미터이다. 이 파라미터로 모델을 학습할 때, 가장 좋은 성능을 낼 수 있다."
   ]
  },
  {
   "cell_type": "code",
   "execution_count": 61,
   "id": "206ba330",
   "metadata": {},
   "outputs": [
    {
     "name": "stdout",
     "output_type": "stream",
     "text": [
      "{'n_estimators': 2000, 'max_features': 'auto', 'max_depth': 10, 'bootstrap': False}\n"
     ]
    }
   ],
   "source": [
    "# 앞서 선정한 파라미터 후보군 중에서 가장 좋은 결과를 보인 파라미터의 조합을 출력한다.\n",
    "print(optimal_forest.best_params_)"
   ]
  },
  {
   "cell_type": "markdown",
   "id": "87b9773b",
   "metadata": {},
   "source": [
    "- 최적 모델 학습 결과"
   ]
  },
  {
   "cell_type": "markdown",
   "id": "75fd4464",
   "metadata": {},
   "source": [
    "최적의 파라미터를 적용한 모델로 중고 휴대폰의 가격을 예측하고 평가한다."
   ]
  },
  {
   "cell_type": "code",
   "execution_count": 64,
   "id": "d880d6da",
   "metadata": {},
   "outputs": [
    {
     "name": "stdout",
     "output_type": "stream",
     "text": [
      "MSE train: 8808363320.130, test: 7645657594.144\n",
      "R^2 train: 0.818, test: 0.825\n"
     ]
    },
    {
     "data": {
      "text/plain": [
       "<BarContainer object of 64 artists>"
      ]
     },
     "execution_count": 64,
     "metadata": {},
     "output_type": "execute_result"
    },
    {
     "data": {
      "image/png": "[encoded data removed]",
      "text/plain": [
       "<Figure size 432x288 with 1 Axes>"
      ]
     },
     "metadata": {
      "needs_background": "light"
     },
     "output_type": "display_data"
    }
   ],
   "source": [
    "# 최적의 파라미터를 적용한 모델로 중고 휴대폰의 가격을 예측하고 평가한다.\n",
    "y_train_pred = optimal_forest.predict(X_train)\n",
    "y_test_pred = optimal_forest.predict(X_test)\n",
    "print('MSE train: %.3f, test: %.3f' % (\n",
    "        mean_squared_error(y_train, y_train_pred),\n",
    "        mean_squared_error(y_test, y_test_pred)))\n",
    "print('R^2 train: %.3f, test: %.3f' % (\n",
    "        r2_score(y_train, y_train_pred),\n",
    "        r2_score(y_test, y_test_pred)))\n",
    "\n",
    "# 가격 예측 모델의 피처 중요도 plot을 출력한다.\n",
    "importances = optimal_forest.best_estimator_.feature_importances_\n",
    "indices = np.argsort(importances)[::-1]\n",
    "plt.bar(range(X.shape[1]), importances[indices])"
   ]
  },
  {
   "cell_type": "code",
   "execution_count": 66,
   "id": "2e2e7b56",
   "metadata": {},
   "outputs": [
    {
     "data": {
      "text/plain": [
       "[('factory_price', 0.29661887725382863),\n",
       " ('maker_apple', 0.2756146378767071),\n",
       " ('phone_model_storage_16gb', 0.07214587829278914),\n",
       " ('create_time_score', 0.06581894080008098),\n",
       " ('product_status_2', 0.06258234575279699),\n",
       " ('phone_model_detail_galaxy s7 edge', 0.02707710135203515),\n",
       " ('phone_model_detail_iphone 6', 0.025031998840692824),\n",
       " ('product_status_0', 0.024499299222839332),\n",
       " ('phone_model_detail_galaxy s4', 0.02053025327910071),\n",
       " ('product_status_1', 0.01380911645897503)]"
      ]
     },
     "execution_count": 66,
     "metadata": {},
     "output_type": "execute_result"
    }
   ],
   "source": [
    "# 가격 예측 모델의 피처 중요도를 출력한다.\n",
    "feat_labels = X.columns.tolist()\n",
    "feature = list(zip(feat_labels, optimal_forest.best_estimator_.feature_importances_))\n",
    "sorted(feature, key=lambda tup: tup[1], reverse=True)[:10]"
   ]
  },
  {
   "cell_type": "markdown",
   "id": "04c2f6ce",
   "metadata": {},
   "source": [
    "- 예측 결과 산점도 그래프"
   ]
  },
  {
   "cell_type": "code",
   "execution_count": 67,
   "id": "bfb99dca",
   "metadata": {},
   "outputs": [
    {
     "data": {
      "text/plain": [
       "<matplotlib.collections.PathCollection at 0x7f0eb189dbe0>"
      ]
     },
     "execution_count": 67,
     "metadata": {},
     "output_type": "execute_result"
    },
    {
     "data": {
      "image/png": "[encoded data removed]",
      "text/plain": [
       "<Figure size 432x288 with 1 Axes>"
      ]
     },
     "metadata": {
      "needs_background": "light"
     },
     "output_type": "display_data"
    }
   ],
   "source": [
    "# 테스트 데이터의 y값과, 예측된 y값을 산점도 그래프를 활용하여 상관 관계를 살펴본다.\n",
    "plt.scatter(y_test.values, y_test_pred)"
   ]
  },
  {
   "cell_type": "markdown",
   "id": "b9a7cc25",
   "metadata": {},
   "source": [
    "출처 : 이것이 데이터 분석이다 with "
   ]
  }
 ],
 "metadata": {
  "kernelspec": {
   "display_name": "Python 3",
   "language": "python",
   "name": "python3"
  },
  "language_info": {
   "codemirror_mode": {
    "name": "ipython",
    "version": 3
   },
   "file_extension": ".py",
   "mimetype": "text/x-python",
   "name": "python",
   "nbconvert_exporter": "python",
   "pygments_lexer": "ipython3",
   "version": "3.6.9"
  }
 },
 "nbformat": 4,
 "nbformat_minor": 5
}
